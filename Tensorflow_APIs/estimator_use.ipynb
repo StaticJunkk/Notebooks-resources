{
 "cells": [
  {
   "cell_type": "code",
   "execution_count": null,
   "metadata": {},
   "outputs": [],
   "source": [
    "import tensorflow as tf\n",
    "import pandas as pd\n",
    "import numpy as np\n",
    "import shutil\n",
    "print(tf.__version__)\n",
    "\n",
    "train_dir='E:/data_prediction/Train.csv'\n",
    "test_dir='E:/data_prediction/Test.csv'"
   ]
  },
  {
   "cell_type": "code",
   "execution_count": null,
   "metadata": {},
   "outputs": [],
   "source": [
    "df_train = pd.read_csv(train_dir)\n",
    "df_test = pd.read_csv(test_dir)\n",
    "\n",
    "df_train.drop('id',axis=1,inplace=True)\n",
    "df_test.drop('id',axis=1,inplace=True)\n",
    "\n",
    "df_train.head(5)\n",
    "df_test.head(5)"
   ]
  },
  {
   "cell_type": "code",
   "execution_count": null,
   "metadata": {},
   "outputs": [],
   "source": [
    "CSV_COLUMNS = ['realtionship_status','industry','genre','targeted_sex','average_runtime(minutes_per_week)','airtime','airlocation','ratings','expensive','money_back_guarantee','netgain']\n",
    "FEATURES_CAT = ['realtionship_status','industry','genre','targeted_sex','airtime','airlocation','expensive','money_back_guarantee']\n",
    "FEATURES_NUM = ['average_runtime(minutes_per_week)','ratings']\n",
    "LABEL = CSV_COLUMNS[-1]\n",
    "\n",
    "df_train['realtionship_status'].unique()\n",
    "df_train['industry'].unique()\n",
    "df_train['genre'].unique()\n",
    "df_train['targeted_sex'].unique()\n",
    "df_train['airtime'].unique()\n",
    "df_train['airlocation'].unique()\n",
    "df_train['money_back_guarantee'].unique()\n",
    "df_train['expensive'].unique()"
   ]
  },
  {
   "cell_type": "code",
   "execution_count": null,
   "metadata": {},
   "outputs": [],
   "source": [
    "def make_train_input_fn(df, num_epochs):\n",
    "  return tf.estimator.inputs.pandas_input_fn(\n",
    "    x = df,\n",
    "    y = df[LABEL],\n",
    "    batch_size = 128,\n",
    "    num_epochs = num_epochs,\n",
    "    shuffle = True,\n",
    "    queue_capacity = 1000\n",
    "  )\n"
   ]
  },
  {
   "cell_type": "code",
   "execution_count": null,
   "metadata": {},
   "outputs": [],
   "source": [
    "def make_prediction_input_fn(df):\n",
    "  return tf.estimator.inputs.pandas_input_fn(\n",
    "    x = df,\n",
    "    y = None,\n",
    "    batch_size = 128,\n",
    "    shuffle = False,\n",
    "    queue_capacity = 1000\n",
    "  )"
   ]
  },
  {
   "cell_type": "code",
   "execution_count": null,
   "metadata": {},
   "outputs": [],
   "source": [
    "def make_feature_cols():\n",
    "  input_columns1 = tf.feature_column.categorical_column_with_vocabulary_list(\"realtionship_status\",['Widowed','Married-civ-spouse','Divorced','Separated','Never-married','Married-spouse-absent','Married-AF-spouse'],dtype=tf.string)\n",
    "  input_columns2 = tf.feature_column.categorical_column_with_vocabulary_list(\"industry\",['Auto', 'Pharma', 'Entertainment', 'Political', 'ClassAction','Other'],dtype=tf.string)\n",
    "  input_columns3 = tf.feature_column.categorical_column_with_vocabulary_list(\"genre\",['Comedy', 'Infomercial', 'Drama', 'Direct', 'Other'],dtype=tf.string)\n",
    "  input_columns4 = tf.feature_column.categorical_column_with_vocabulary_list(\"targeted_sex\",['Male', 'Female'],dtype=tf.string)\n",
    "  input_columns5 = tf.feature_column.categorical_column_with_vocabulary_list(\"airtime\",['Primetime', 'Morning', 'Daytime'],dtype=tf.string)\n",
    "  input_columns6 = tf.feature_column.categorical_column_with_vocabulary_list(\"airlocation\",['United-States', 'Outlying-US(Guam-USVI-etc)', 'Mexico', 'Laos',\n",
    "       'International', 'India', 'Poland', 'South', 'Italy',\n",
    "       'Philippines', 'Guatemala', 'Columbia', 'Taiwan', 'England',\n",
    "       'Canada', 'Germany', 'Thailand', 'Puerto-Rico', 'Nicaragua',\n",
    "       'Cuba', 'Trinadad&Tobago', 'Yugoslavia', 'El-Salvador', 'Peru',\n",
    "       'China', 'Japan', 'Vietnam', 'Hong', 'Dominican-Republic',\n",
    "       'Honduras', 'Hungary', 'Jamaica', 'France', 'Portugal', 'Ireland',\n",
    "       'Ecuador', 'Iran', 'Scotland', 'Greece', 'Cambodia', 'Haiti',\n",
    "       'Holand-Netherlands'],dtype=tf.string)\n",
    "  input_columns7 = tf.feature_column.categorical_column_with_vocabulary_list(\"money_back_guarantee\",['No', 'Yes'],dtype=tf.string)\n",
    "  input_columns8 = tf.feature_column.categorical_column_with_vocabulary_list(\"expensive\",['High', 'Low', 'Medium'],dtype=tf.string)\n",
    "  \n",
    "  final_featcol=[tf.feature_column.numeric_column('average_runtime(minutes_per_week)',dtype=tf.int64),\n",
    "                 tf.feature_column.numeric_column('ratings',dtype=tf.float64),\n",
    "                 tf.feature_column.indicator_column(input_columns1),\n",
    "                 tf.feature_column.indicator_column(input_columns2),\n",
    "                 tf.feature_column.indicator_column(input_columns3),\n",
    "                 tf.feature_column.indicator_column(input_columns4),\n",
    "                 tf.feature_column.indicator_column(input_columns5),\n",
    "                 tf.feature_column.indicator_column(input_columns6),\n",
    "                 tf.feature_column.indicator_column(input_columns7),\n",
    "                 tf.feature_column.indicator_column(input_columns8),\n",
    "\n",
    "                  ]\n",
    "\n",
    "  return final_featcol"
   ]
  },
  {
   "cell_type": "code",
   "execution_count": null,
   "metadata": {},
   "outputs": [],
   "source": [
    "\n",
    "model = tf.estimator.DNNRegressor(hidden_units = [32, 8, 2],\n",
    "      feature_columns = make_feature_cols())\n",
    "model.train(input_fn = make_train_input_fn(df_train, num_epochs = 10));"
   ]
  },
  {
   "cell_type": "code",
   "execution_count": null,
   "metadata": {},
   "outputs": [],
   "source": []
  }
 ],
 "metadata": {
  "kernelspec": {
   "display_name": "Python 3",
   "language": "python",
   "name": "python3"
  },
  "language_info": {
   "codemirror_mode": {
    "name": "ipython",
    "version": 3
   },
   "file_extension": ".py",
   "mimetype": "text/x-python",
   "name": "python",
   "nbconvert_exporter": "python",
   "pygments_lexer": "ipython3",
   "version": "3.7.7"
  }
 },
 "nbformat": 4,
 "nbformat_minor": 2
}
