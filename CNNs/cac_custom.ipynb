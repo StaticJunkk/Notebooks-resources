{
 "cells": [
  {
   "cell_type": "code",
   "execution_count": 7,
   "metadata": {},
   "outputs": [],
   "source": [
    "import os\n",
    "\n",
    "from tensorflow.keras import layers\n",
    "from tensorflow.keras import Model\n",
    "from tensorflow.keras.preprocessing.image import ImageDataGenerator\n",
    "\n",
    "import pandas as pd\n",
    "\n",
    "# path to image directory\n",
    "image_dir=\"E:/aerial_cac/train\""
   ]
  },
  {
   "cell_type": "code",
   "execution_count": 8,
   "metadata": {},
   "outputs": [],
   "source": [
    "train_dir = \"E:/aerial_cac/train.csv\"\n",
    "traindf = pd.read_csv(train_dir)\n",
    "traindf.has_cactus = train_data.has_cactus.astype(str)"
   ]
  },
  {
   "cell_type": "code",
   "execution_count": 9,
   "metadata": {},
   "outputs": [
    {
     "name": "stdout",
     "output_type": "stream",
     "text": [
      "(17500, 2)\n"
     ]
    }
   ],
   "source": [
    "traindf.has_cactus.value_counts()\n",
    "print(traindf.shape)"
   ]
  },
  {
   "cell_type": "code",
   "execution_count": 10,
   "metadata": {},
   "outputs": [
    {
     "name": "stdout",
     "output_type": "stream",
     "text": [
      "Found 14000 validated image filenames belonging to 2 classes.\n",
      "Found 3500 validated image filenames belonging to 2 classes.\n"
     ]
    }
   ],
   "source": [
    "datagen=ImageDataGenerator(rescale=1./255.,validation_split=0.20)\n",
    "\n",
    "\n",
    "train_generator=datagen.flow_from_dataframe(\n",
    "dataframe=traindf,\n",
    "directory=image_dir,\n",
    "x_col=\"id\",\n",
    "y_col=\"has_cactus\",\n",
    "subset=\"training\",\n",
    "batch_size=64,\n",
    "seed=42,\n",
    "shuffle=True,\n",
    "class_mode=\"binary\",\n",
    "target_size=(32,32))\n",
    "\n",
    "\n",
    "valid_generator=datagen.flow_from_dataframe(\n",
    "dataframe=traindf,\n",
    "directory=image_dir,\n",
    "x_col=\"id\",\n",
    "y_col=\"has_cactus\",\n",
    "subset=\"validation\",\n",
    "batch_size=64,\n",
    "seed=42,\n",
    "shuffle=True,\n",
    "class_mode=\"binary\",\n",
    "target_size=(32,32))"
   ]
  },
  {
   "cell_type": "code",
   "execution_count": 11,
   "metadata": {},
   "outputs": [],
   "source": [
    "from tensorflow.keras.models import Sequential\n",
    "from tensorflow.keras.layers import Conv2D, Dense, Flatten, Dropout, Activation\n",
    "from tensorflow.keras.layers import BatchNormalization, MaxPooling2D, GlobalAveragePooling2D"
   ]
  },
  {
   "cell_type": "code",
   "execution_count": 12,
   "metadata": {},
   "outputs": [
    {
     "name": "stdout",
     "output_type": "stream",
     "text": [
      "Model: \"sequential\"\n",
      "_________________________________________________________________\n",
      "Layer (type)                 Output Shape              Param #   \n",
      "=================================================================\n",
      "conv2d (Conv2D)              (None, 32, 32, 32)        896       \n",
      "_________________________________________________________________\n",
      "batch_normalization (BatchNo (None, 32, 32, 32)        128       \n",
      "_________________________________________________________________\n",
      "conv2d_1 (Conv2D)            (None, 32, 32, 32)        9248      \n",
      "_________________________________________________________________\n",
      "batch_normalization_1 (Batch (None, 32, 32, 32)        128       \n",
      "_________________________________________________________________\n",
      "max_pooling2d (MaxPooling2D) (None, 16, 16, 32)        0         \n",
      "_________________________________________________________________\n",
      "conv2d_2 (Conv2D)            (None, 16, 16, 64)        18496     \n",
      "_________________________________________________________________\n",
      "batch_normalization_2 (Batch (None, 16, 16, 64)        256       \n",
      "_________________________________________________________________\n",
      "max_pooling2d_1 (MaxPooling2 (None, 8, 8, 64)          0         \n",
      "_________________________________________________________________\n",
      "conv2d_3 (Conv2D)            (None, 8, 8, 128)         73856     \n",
      "_________________________________________________________________\n",
      "batch_normalization_3 (Batch (None, 8, 8, 128)         512       \n",
      "_________________________________________________________________\n",
      "max_pooling2d_2 (MaxPooling2 (None, 4, 4, 128)         0         \n",
      "_________________________________________________________________\n",
      "conv2d_4 (Conv2D)            (None, 4, 4, 256)         295168    \n",
      "_________________________________________________________________\n",
      "batch_normalization_4 (Batch (None, 4, 4, 256)         1024      \n",
      "_________________________________________________________________\n",
      "max_pooling2d_3 (MaxPooling2 (None, 2, 2, 256)         0         \n",
      "_________________________________________________________________\n",
      "global_average_pooling2d (Gl (None, 256)               0         \n",
      "_________________________________________________________________\n",
      "dense (Dense)                (None, 256)               65792     \n",
      "_________________________________________________________________\n",
      "dropout (Dropout)            (None, 256)               0         \n",
      "_________________________________________________________________\n",
      "dense_1 (Dense)              (None, 1)                 257       \n",
      "=================================================================\n",
      "Total params: 465,761\n",
      "Trainable params: 464,737\n",
      "Non-trainable params: 1,024\n",
      "_________________________________________________________________\n"
     ]
    }
   ],
   "source": [
    "model = Sequential([\n",
    "    Conv2D(32, (3, 3), padding = 'same', activation = 'relu', input_shape = (32,32,3)),\n",
    "    BatchNormalization(),\n",
    "    Conv2D(32, (3, 3), padding = 'same', activation = 'relu', input_shape = (32,32,3)),\n",
    "    BatchNormalization(),\n",
    "    MaxPooling2D(),\n",
    "    \n",
    "    Conv2D(64, (3, 3), padding = 'same', activation = 'relu'),\n",
    "    BatchNormalization(),\n",
    "    MaxPooling2D(),\n",
    "    \n",
    "    Conv2D(128, (3, 3), padding = 'same', activation = 'relu'),\n",
    "    BatchNormalization(),\n",
    "    MaxPooling2D(),\n",
    "    \n",
    "    Conv2D(256, (3, 3), padding = 'same', activation = 'relu'),\n",
    "    BatchNormalization(),\n",
    "    MaxPooling2D(),\n",
    "    \n",
    "    GlobalAveragePooling2D(),\n",
    "    \n",
    "    Dense(256, activation = 'relu'),\n",
    "    Dropout(0.5),\n",
    "    \n",
    "    Dense(1, activation = 'sigmoid')\n",
    "]) \n",
    "model.compile(loss = 'binary_crossentropy',\n",
    "              optimizer = 'adam',\n",
    "              metrics = ['accuracy']) \n",
    "                                   \n",
    "model.summary()"
   ]
  },
  {
   "cell_type": "code",
   "execution_count": 13,
   "metadata": {},
   "outputs": [
    {
     "name": "stdout",
     "output_type": "stream",
     "text": [
      "WARNING:tensorflow:From <ipython-input-13-4332e6dea2a3>:5: Model.fit_generator (from tensorflow.python.keras.engine.training) is deprecated and will be removed in a future version.\n",
      "Instructions for updating:\n",
      "Please use Model.fit, which supports generators.\n",
      "WARNING:tensorflow:sample_weight modes were coerced from\n",
      "  ...\n",
      "    to  \n",
      "  ['...']\n",
      "WARNING:tensorflow:sample_weight modes were coerced from\n",
      "  ...\n",
      "    to  \n",
      "  ['...']\n",
      "Train for 219 steps, validate for 55 steps\n",
      "Epoch 1/10\n",
      "219/219 [==============================] - 56s 257ms/step - loss: 0.1107 - accuracy: 0.9576 - val_loss: 7.4802 - val_accuracy: 0.2526\n",
      "Epoch 2/10\n",
      "219/219 [==============================] - 48s 219ms/step - loss: 0.0399 - accuracy: 0.9860 - val_loss: 2.2375 - val_accuracy: 0.5000\n",
      "Epoch 3/10\n",
      "219/219 [==============================] - 47s 215ms/step - loss: 0.0237 - accuracy: 0.9909 - val_loss: 0.0291 - val_accuracy: 0.9891\n",
      "Epoch 4/10\n",
      "219/219 [==============================] - 47s 215ms/step - loss: 0.0277 - accuracy: 0.9904 - val_loss: 0.2632 - val_accuracy: 0.9383\n",
      "Epoch 5/10\n",
      "219/219 [==============================] - 48s 218ms/step - loss: 0.0134 - accuracy: 0.9957 - val_loss: 0.1420 - val_accuracy: 0.9540\n",
      "Epoch 6/10\n",
      "219/219 [==============================] - 47s 215ms/step - loss: 0.0116 - accuracy: 0.9962 - val_loss: 0.1716 - val_accuracy: 0.9480\n",
      "Epoch 7/10\n",
      "219/219 [==============================] - 47s 217ms/step - loss: 0.0079 - accuracy: 0.9971 - val_loss: 0.3568 - val_accuracy: 0.8791\n",
      "Epoch 8/10\n",
      "219/219 [==============================] - 47s 216ms/step - loss: 0.0175 - accuracy: 0.9944 - val_loss: 1.9154 - val_accuracy: 0.6483\n",
      "Epoch 9/10\n",
      "219/219 [==============================] - 47s 216ms/step - loss: 0.0088 - accuracy: 0.9966 - val_loss: 0.0518 - val_accuracy: 0.9837\n",
      "Epoch 10/10\n",
      "219/219 [==============================] - 47s 215ms/step - loss: 0.0022 - accuracy: 0.9991 - val_loss: 0.1820 - val_accuracy: 0.9609\n"
     ]
    }
   ],
   "source": [
    "history = model.fit_generator(train_generator,\n",
    "          validation_data = valid_generator,\n",
    "          epochs = 10,\n",
    "          verbose = 1,\n",
    "          shuffle = True,)"
   ]
  },
  {
   "cell_type": "code",
   "execution_count": null,
   "metadata": {},
   "outputs": [],
   "source": []
  }
 ],
 "metadata": {
  "kernelspec": {
   "display_name": "Python 3",
   "language": "python",
   "name": "python3"
  },
  "language_info": {
   "codemirror_mode": {
    "name": "ipython",
    "version": 3
   },
   "file_extension": ".py",
   "mimetype": "text/x-python",
   "name": "python",
   "nbconvert_exporter": "python",
   "pygments_lexer": "ipython3",
   "version": "3.7.7"
  }
 },
 "nbformat": 4,
 "nbformat_minor": 2
}
