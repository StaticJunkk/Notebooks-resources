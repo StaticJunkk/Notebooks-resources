{
 "cells": [
  {
   "cell_type": "markdown",
   "metadata": {},
   "source": [
    "### 1. NLP\n",
    "### 2. Hashing numreical + text data\n",
    "### 3. sparse data"
   ]
  },
  {
   "cell_type": "code",
   "execution_count": 60,
   "metadata": {},
   "outputs": [],
   "source": [
    "import numpy as np \n",
    "import pandas as pd \n",
    "import seaborn as sns\n",
    "import matplotlib.pyplot as plt\n",
    "import category_encoders as ce   \n",
    "from sklearn.preprocessing import LabelEncoder\n",
    "from sklearn.metrics import classification_report,confusion_matrix"
   ]
  },
  {
   "cell_type": "code",
   "execution_count": 61,
   "metadata": {},
   "outputs": [],
   "source": [
    "train_dir='E:/Knight ML Assignment/Data/train.csv'\n",
    "test_dir='E:/Knight ML Assignment/Data/test.csv'\n",
    "\n",
    "df = pd.read_csv(train_dir)\n",
    "df_test= pd.read_csv(test_dir)"
   ]
  },
  {
   "cell_type": "code",
   "execution_count": 62,
   "metadata": {},
   "outputs": [
    {
     "data": {
      "text/html": [
       "<div>\n",
       "<style scoped>\n",
       "    .dataframe tbody tr th:only-of-type {\n",
       "        vertical-align: middle;\n",
       "    }\n",
       "\n",
       "    .dataframe tbody tr th {\n",
       "        vertical-align: top;\n",
       "    }\n",
       "\n",
       "    .dataframe thead th {\n",
       "        text-align: right;\n",
       "    }\n",
       "</style>\n",
       "<table border=\"1\" class=\"dataframe\">\n",
       "  <thead>\n",
       "    <tr style=\"text-align: right;\">\n",
       "      <th></th>\n",
       "      <th>user_name</th>\n",
       "      <th>country</th>\n",
       "      <th>review_title</th>\n",
       "      <th>review_description</th>\n",
       "      <th>designation</th>\n",
       "      <th>points</th>\n",
       "      <th>price</th>\n",
       "      <th>province</th>\n",
       "      <th>region_1</th>\n",
       "      <th>region_2</th>\n",
       "      <th>winery</th>\n",
       "      <th>variety</th>\n",
       "    </tr>\n",
       "  </thead>\n",
       "  <tbody>\n",
       "    <tr>\n",
       "      <td>0</td>\n",
       "      <td>NaN</td>\n",
       "      <td>Australia</td>\n",
       "      <td>Andrew Peace 2007 Peace Family Vineyard Chardo...</td>\n",
       "      <td>Classic Chardonnay aromas of apple, pear and h...</td>\n",
       "      <td>Peace Family Vineyard</td>\n",
       "      <td>83</td>\n",
       "      <td>10.0</td>\n",
       "      <td>Australia Other</td>\n",
       "      <td>South Eastern Australia</td>\n",
       "      <td>NaN</td>\n",
       "      <td>Andrew Peace</td>\n",
       "      <td>Chardonnay</td>\n",
       "    </tr>\n",
       "    <tr>\n",
       "      <td>1</td>\n",
       "      <td>@wawinereport</td>\n",
       "      <td>US</td>\n",
       "      <td>North by Northwest 2014 Red (Columbia Valley (...</td>\n",
       "      <td>This wine is near equal parts Syrah and Merlot...</td>\n",
       "      <td>NaN</td>\n",
       "      <td>89</td>\n",
       "      <td>15.0</td>\n",
       "      <td>Washington</td>\n",
       "      <td>Columbia Valley (WA)</td>\n",
       "      <td>Columbia Valley</td>\n",
       "      <td>North by Northwest</td>\n",
       "      <td>Red Blend</td>\n",
       "    </tr>\n",
       "    <tr>\n",
       "      <td>2</td>\n",
       "      <td>NaN</td>\n",
       "      <td>Italy</td>\n",
       "      <td>Renato Ratti 2007 Conca  (Barolo)</td>\n",
       "      <td>Barolo Conca opens with inky dark concentratio...</td>\n",
       "      <td>Conca</td>\n",
       "      <td>94</td>\n",
       "      <td>80.0</td>\n",
       "      <td>Piedmont</td>\n",
       "      <td>Barolo</td>\n",
       "      <td>NaN</td>\n",
       "      <td>Renato Ratti</td>\n",
       "      <td>Nebbiolo</td>\n",
       "    </tr>\n",
       "    <tr>\n",
       "      <td>3</td>\n",
       "      <td>@vossroger</td>\n",
       "      <td>France</td>\n",
       "      <td>Domaine l'Ancienne Cure 2010 L'Abbaye White (B...</td>\n",
       "      <td>It's impressive what a small addition of Sauvi...</td>\n",
       "      <td>L'Abbaye</td>\n",
       "      <td>87</td>\n",
       "      <td>22.0</td>\n",
       "      <td>Southwest France</td>\n",
       "      <td>Bergerac Sec</td>\n",
       "      <td>NaN</td>\n",
       "      <td>Domaine l'Ancienne Cure</td>\n",
       "      <td>Bordeaux-style White Blend</td>\n",
       "    </tr>\n",
       "    <tr>\n",
       "      <td>4</td>\n",
       "      <td>@vossroger</td>\n",
       "      <td>France</td>\n",
       "      <td>Château du Cèdre 2012 Le Cèdre Vintage Malbec ...</td>\n",
       "      <td>This ripe, sweet wine is rich and full of drie...</td>\n",
       "      <td>Le Cèdre Vintage</td>\n",
       "      <td>88</td>\n",
       "      <td>33.0</td>\n",
       "      <td>France Other</td>\n",
       "      <td>Vin de Liqueur</td>\n",
       "      <td>NaN</td>\n",
       "      <td>Château du Cèdre</td>\n",
       "      <td>Malbec</td>\n",
       "    </tr>\n",
       "  </tbody>\n",
       "</table>\n",
       "</div>"
      ],
      "text/plain": [
       "       user_name    country  \\\n",
       "0            NaN  Australia   \n",
       "1  @wawinereport         US   \n",
       "2            NaN      Italy   \n",
       "3     @vossroger     France   \n",
       "4     @vossroger     France   \n",
       "\n",
       "                                        review_title  \\\n",
       "0  Andrew Peace 2007 Peace Family Vineyard Chardo...   \n",
       "1  North by Northwest 2014 Red (Columbia Valley (...   \n",
       "2                  Renato Ratti 2007 Conca  (Barolo)   \n",
       "3  Domaine l'Ancienne Cure 2010 L'Abbaye White (B...   \n",
       "4  Château du Cèdre 2012 Le Cèdre Vintage Malbec ...   \n",
       "\n",
       "                                  review_description            designation  \\\n",
       "0  Classic Chardonnay aromas of apple, pear and h...  Peace Family Vineyard   \n",
       "1  This wine is near equal parts Syrah and Merlot...                    NaN   \n",
       "2  Barolo Conca opens with inky dark concentratio...                  Conca   \n",
       "3  It's impressive what a small addition of Sauvi...               L'Abbaye   \n",
       "4  This ripe, sweet wine is rich and full of drie...       Le Cèdre Vintage   \n",
       "\n",
       "   points  price          province                 region_1         region_2  \\\n",
       "0      83   10.0   Australia Other  South Eastern Australia              NaN   \n",
       "1      89   15.0        Washington     Columbia Valley (WA)  Columbia Valley   \n",
       "2      94   80.0          Piedmont                   Barolo              NaN   \n",
       "3      87   22.0  Southwest France             Bergerac Sec              NaN   \n",
       "4      88   33.0      France Other           Vin de Liqueur              NaN   \n",
       "\n",
       "                    winery                     variety  \n",
       "0             Andrew Peace                  Chardonnay  \n",
       "1       North by Northwest                   Red Blend  \n",
       "2             Renato Ratti                    Nebbiolo  \n",
       "3  Domaine l'Ancienne Cure  Bordeaux-style White Blend  \n",
       "4         Château du Cèdre                      Malbec  "
      ]
     },
     "execution_count": 62,
     "metadata": {},
     "output_type": "execute_result"
    }
   ],
   "source": [
    "df.head(5)"
   ]
  },
  {
   "cell_type": "code",
   "execution_count": 63,
   "metadata": {},
   "outputs": [
    {
     "data": {
      "text/plain": [
       "<matplotlib.axes._subplots.AxesSubplot at 0x15664b7b5c8>"
      ]
     },
     "execution_count": 63,
     "metadata": {},
     "output_type": "execute_result"
    },
    {
     "data": {
      "image/png": "[encoded data removed]",
      "text/plain": [
       "<Figure size 432x288 with 2 Axes>"
      ]
     },
     "metadata": {
      "needs_background": "light"
     },
     "output_type": "display_data"
    }
   ],
   "source": [
    "import seaborn as sns\n",
    "import matplotlib.pyplot as plt\n",
    "\n",
    "import seaborn as sns\n",
    "\n",
    "corr=df.corr()\n",
    "sns.heatmap(corr, xticklabels=corr.columns.values, yticklabels=corr.columns.values)"
   ]
  },
  {
   "cell_type": "markdown",
   "metadata": {},
   "source": [
    "## user_name"
   ]
  },
  {
   "cell_type": "code",
   "execution_count": 64,
   "metadata": {},
   "outputs": [
    {
     "name": "stdout",
     "output_type": "stream",
     "text": [
      "<class 'pandas.core.frame.DataFrame'>\n",
      "RangeIndex: 82657 entries, 0 to 82656\n",
      "Data columns (total 11 columns):\n",
      "country               82622 non-null object\n",
      "review_title          82657 non-null object\n",
      "review_description    82657 non-null object\n",
      "designation           59010 non-null object\n",
      "points                82657 non-null int64\n",
      "price                 77088 non-null float64\n",
      "province              82622 non-null object\n",
      "region_1              69903 non-null object\n",
      "region_2              35949 non-null object\n",
      "winery                82657 non-null object\n",
      "variety               82657 non-null object\n",
      "dtypes: float64(1), int64(1), object(9)\n",
      "memory usage: 6.9+ MB\n"
     ]
    }
   ],
   "source": [
    "train = df.drop( ['user_name'] ,axis=1)\n",
    "test = df_test.drop( ['user_name'] ,axis=1)\n",
    "\n",
    "train.info()"
   ]
  },
  {
   "cell_type": "markdown",
   "metadata": {},
   "source": [
    "## Country"
   ]
  },
  {
   "cell_type": "code",
   "execution_count": 65,
   "metadata": {},
   "outputs": [
    {
     "data": {
      "text/plain": [
       "<matplotlib.axes._subplots.AxesSubplot at 0x15652336d48>"
      ]
     },
     "execution_count": 65,
     "metadata": {},
     "output_type": "execute_result"
    },
    {
     "data": {
      "image/png": "[encoded data removed]",
      "text/plain": [
       "<Figure size 432x288 with 1 Axes>"
      ]
     },
     "metadata": {
      "needs_background": "light"
     },
     "output_type": "display_data"
    }
   ],
   "source": [
    "train['country'].value_counts().plot.bar()"
   ]
  },
  {
   "cell_type": "code",
   "execution_count": 66,
   "metadata": {},
   "outputs": [],
   "source": [
    "train.drop(train[(train.country!='France') & (train.country!='Italy') & (train.country!='US')].index, inplace=True)\n",
    "test.drop(test[(test.country!='France') & (test.country!='Italy') & (test.country!='US')].index, inplace=True) "
   ]
  },
  {
   "cell_type": "markdown",
   "metadata": {},
   "source": [
    "## Designation/province"
   ]
  },
  {
   "cell_type": "code",
   "execution_count": 67,
   "metadata": {},
   "outputs": [
    {
     "name": "stdout",
     "output_type": "stream",
     "text": [
      "----------\n",
      "19382\n"
     ]
    }
   ],
   "source": [
    "train['designation'].value_counts()\n",
    "print('----------')\n",
    "print(len(train['designation'].unique()))\n",
    "\n",
    "## categorical values making no sense"
   ]
  },
  {
   "cell_type": "code",
   "execution_count": 68,
   "metadata": {},
   "outputs": [
    {
     "name": "stdout",
     "output_type": "stream",
     "text": [
      "<class 'pandas.core.frame.DataFrame'>\n",
      "Int64Index: 63633 entries, 1 to 82656\n",
      "Data columns (total 11 columns):\n",
      "country               63633 non-null object\n",
      "review_title          63633 non-null object\n",
      "review_description    63633 non-null object\n",
      "designation           43408 non-null object\n",
      "points                63633 non-null int64\n",
      "price                 59025 non-null float64\n",
      "province              63633 non-null object\n",
      "region_1              63416 non-null object\n",
      "region_2              35949 non-null object\n",
      "winery                63633 non-null object\n",
      "variety               63633 non-null object\n",
      "dtypes: float64(1), int64(1), object(9)\n",
      "memory usage: 5.8+ MB\n"
     ]
    }
   ],
   "source": [
    "train.info()"
   ]
  },
  {
   "cell_type": "code",
   "execution_count": 69,
   "metadata": {},
   "outputs": [],
   "source": [
    "train.drop(['designation','province','winery'],axis=1, inplace=True)\n",
    "test.drop(['designation','province','winery'],axis=1, inplace=True)"
   ]
  },
  {
   "cell_type": "code",
   "execution_count": 70,
   "metadata": {},
   "outputs": [
    {
     "name": "stdout",
     "output_type": "stream",
     "text": [
      "<class 'pandas.core.frame.DataFrame'>\n",
      "Int64Index: 63633 entries, 1 to 82656\n",
      "Data columns (total 8 columns):\n",
      "country               63633 non-null object\n",
      "review_title          63633 non-null object\n",
      "review_description    63633 non-null object\n",
      "points                63633 non-null int64\n",
      "price                 59025 non-null float64\n",
      "region_1              63416 non-null object\n",
      "region_2              35949 non-null object\n",
      "variety               63633 non-null object\n",
      "dtypes: float64(1), int64(1), object(6)\n",
      "memory usage: 4.4+ MB\n"
     ]
    }
   ],
   "source": [
    "train.info()"
   ]
  },
  {
   "cell_type": "markdown",
   "metadata": {},
   "source": [
    "## region_1 and region_2"
   ]
  },
  {
   "cell_type": "code",
   "execution_count": 71,
   "metadata": {},
   "outputs": [
    {
     "data": {
      "text/plain": [
       "<matplotlib.axes._subplots.AxesSubplot at 0x15664800c88>"
      ]
     },
     "execution_count": 71,
     "metadata": {},
     "output_type": "execute_result"
    },
    {
     "data": {
      "image/png": "[encoded data removed]",
      "text/plain": [
       "<Figure size 432x288 with 1 Axes>"
      ]
     },
     "metadata": {
      "needs_background": "light"
     },
     "output_type": "display_data"
    }
   ],
   "source": [
    "train['region_1'].value_counts().head(20).plot.bar()"
   ]
  },
  {
   "cell_type": "code",
   "execution_count": 72,
   "metadata": {},
   "outputs": [
    {
     "data": {
      "text/plain": [
       "<matplotlib.axes._subplots.AxesSubplot at 0x15664602048>"
      ]
     },
     "execution_count": 72,
     "metadata": {},
     "output_type": "execute_result"
    },
    {
     "data": {
      "image/png": "[encoded data removed]",
      "text/plain": [
       "<Figure size 432x288 with 1 Axes>"
      ]
     },
     "metadata": {
      "needs_background": "light"
     },
     "output_type": "display_data"
    }
   ],
   "source": [
    "train['region_2'].value_counts().head(20).plot.bar()"
   ]
  },
  {
   "cell_type": "code",
   "execution_count": 73,
   "metadata": {},
   "outputs": [],
   "source": [
    "train.drop(['region_1','region_2'],axis=1,inplace=True)\n",
    "test.drop(['region_1','region_2'],axis=1,inplace=True)"
   ]
  },
  {
   "cell_type": "markdown",
   "metadata": {},
   "source": [
    "## Removing missing values.."
   ]
  },
  {
   "cell_type": "code",
   "execution_count": 74,
   "metadata": {},
   "outputs": [
    {
     "data": {
      "text/html": [
       "<div>\n",
       "<style scoped>\n",
       "    .dataframe tbody tr th:only-of-type {\n",
       "        vertical-align: middle;\n",
       "    }\n",
       "\n",
       "    .dataframe tbody tr th {\n",
       "        vertical-align: top;\n",
       "    }\n",
       "\n",
       "    .dataframe thead th {\n",
       "        text-align: right;\n",
       "    }\n",
       "</style>\n",
       "<table border=\"1\" class=\"dataframe\">\n",
       "  <thead>\n",
       "    <tr style=\"text-align: right;\">\n",
       "      <th></th>\n",
       "      <th>country</th>\n",
       "      <th>review_title</th>\n",
       "      <th>review_description</th>\n",
       "      <th>points</th>\n",
       "      <th>price</th>\n",
       "      <th>variety</th>\n",
       "    </tr>\n",
       "  </thead>\n",
       "  <tbody>\n",
       "    <tr>\n",
       "      <td>1</td>\n",
       "      <td>US</td>\n",
       "      <td>North by Northwest 2014 Red (Columbia Valley (...</td>\n",
       "      <td>This wine is near equal parts Syrah and Merlot...</td>\n",
       "      <td>89</td>\n",
       "      <td>15.0</td>\n",
       "      <td>Red Blend</td>\n",
       "    </tr>\n",
       "    <tr>\n",
       "      <td>2</td>\n",
       "      <td>Italy</td>\n",
       "      <td>Renato Ratti 2007 Conca  (Barolo)</td>\n",
       "      <td>Barolo Conca opens with inky dark concentratio...</td>\n",
       "      <td>94</td>\n",
       "      <td>80.0</td>\n",
       "      <td>Nebbiolo</td>\n",
       "    </tr>\n",
       "    <tr>\n",
       "      <td>3</td>\n",
       "      <td>France</td>\n",
       "      <td>Domaine l'Ancienne Cure 2010 L'Abbaye White (B...</td>\n",
       "      <td>It's impressive what a small addition of Sauvi...</td>\n",
       "      <td>87</td>\n",
       "      <td>22.0</td>\n",
       "      <td>Bordeaux-style White Blend</td>\n",
       "    </tr>\n",
       "    <tr>\n",
       "      <td>4</td>\n",
       "      <td>France</td>\n",
       "      <td>Château du Cèdre 2012 Le Cèdre Vintage Malbec ...</td>\n",
       "      <td>This ripe, sweet wine is rich and full of drie...</td>\n",
       "      <td>88</td>\n",
       "      <td>33.0</td>\n",
       "      <td>Malbec</td>\n",
       "    </tr>\n",
       "    <tr>\n",
       "      <td>6</td>\n",
       "      <td>US</td>\n",
       "      <td>Gordon Estate 2012 Tradition Red (Columbia Val...</td>\n",
       "      <td>Half Syrah and half Cabernet Sauvignon, with 4...</td>\n",
       "      <td>91</td>\n",
       "      <td>45.0</td>\n",
       "      <td>Red Blend</td>\n",
       "    </tr>\n",
       "    <tr>\n",
       "      <td>...</td>\n",
       "      <td>...</td>\n",
       "      <td>...</td>\n",
       "      <td>...</td>\n",
       "      <td>...</td>\n",
       "      <td>...</td>\n",
       "      <td>...</td>\n",
       "    </tr>\n",
       "    <tr>\n",
       "      <td>82651</td>\n",
       "      <td>US</td>\n",
       "      <td>La Crema 2012 Chardonnay (Arroyo Seco)</td>\n",
       "      <td>Made in a drier, tarter style than the winery'...</td>\n",
       "      <td>90</td>\n",
       "      <td>30.0</td>\n",
       "      <td>Chardonnay</td>\n",
       "    </tr>\n",
       "    <tr>\n",
       "      <td>82653</td>\n",
       "      <td>US</td>\n",
       "      <td>Vivác Winery 2008 Single Vineyard Cabernet Sau...</td>\n",
       "      <td>Pungent, high-pitched notes of turmeric and dr...</td>\n",
       "      <td>85</td>\n",
       "      <td>21.0</td>\n",
       "      <td>Cabernet Sauvignon</td>\n",
       "    </tr>\n",
       "    <tr>\n",
       "      <td>82654</td>\n",
       "      <td>France</td>\n",
       "      <td>Domaine de la Madone 2014 Nouveau  (Beaujolais...</td>\n",
       "      <td>This is a wine that's not just lively and frui...</td>\n",
       "      <td>87</td>\n",
       "      <td>14.0</td>\n",
       "      <td>Gamay</td>\n",
       "    </tr>\n",
       "    <tr>\n",
       "      <td>82655</td>\n",
       "      <td>France</td>\n",
       "      <td>Château Beaumont 2011  Haut-Médoc</td>\n",
       "      <td>An impressive wine, it already shows signs of ...</td>\n",
       "      <td>91</td>\n",
       "      <td>20.0</td>\n",
       "      <td>Bordeaux-style Red Blend</td>\n",
       "    </tr>\n",
       "    <tr>\n",
       "      <td>82656</td>\n",
       "      <td>US</td>\n",
       "      <td>Round Pond 2010 Estate Cabernet Sauvignon (Rut...</td>\n",
       "      <td>A big, rich, vital Cabernet with immediate att...</td>\n",
       "      <td>92</td>\n",
       "      <td>50.0</td>\n",
       "      <td>Cabernet Sauvignon</td>\n",
       "    </tr>\n",
       "  </tbody>\n",
       "</table>\n",
       "<p>59025 rows × 6 columns</p>\n",
       "</div>"
      ],
      "text/plain": [
       "      country                                       review_title  \\\n",
       "1          US  North by Northwest 2014 Red (Columbia Valley (...   \n",
       "2       Italy                  Renato Ratti 2007 Conca  (Barolo)   \n",
       "3      France  Domaine l'Ancienne Cure 2010 L'Abbaye White (B...   \n",
       "4      France  Château du Cèdre 2012 Le Cèdre Vintage Malbec ...   \n",
       "6          US  Gordon Estate 2012 Tradition Red (Columbia Val...   \n",
       "...       ...                                                ...   \n",
       "82651      US             La Crema 2012 Chardonnay (Arroyo Seco)   \n",
       "82653      US  Vivác Winery 2008 Single Vineyard Cabernet Sau...   \n",
       "82654  France  Domaine de la Madone 2014 Nouveau  (Beaujolais...   \n",
       "82655  France                  Château Beaumont 2011  Haut-Médoc   \n",
       "82656      US  Round Pond 2010 Estate Cabernet Sauvignon (Rut...   \n",
       "\n",
       "                                      review_description  points  price  \\\n",
       "1      This wine is near equal parts Syrah and Merlot...      89   15.0   \n",
       "2      Barolo Conca opens with inky dark concentratio...      94   80.0   \n",
       "3      It's impressive what a small addition of Sauvi...      87   22.0   \n",
       "4      This ripe, sweet wine is rich and full of drie...      88   33.0   \n",
       "6      Half Syrah and half Cabernet Sauvignon, with 4...      91   45.0   \n",
       "...                                                  ...     ...    ...   \n",
       "82651  Made in a drier, tarter style than the winery'...      90   30.0   \n",
       "82653  Pungent, high-pitched notes of turmeric and dr...      85   21.0   \n",
       "82654  This is a wine that's not just lively and frui...      87   14.0   \n",
       "82655  An impressive wine, it already shows signs of ...      91   20.0   \n",
       "82656  A big, rich, vital Cabernet with immediate att...      92   50.0   \n",
       "\n",
       "                          variety  \n",
       "1                       Red Blend  \n",
       "2                        Nebbiolo  \n",
       "3      Bordeaux-style White Blend  \n",
       "4                          Malbec  \n",
       "6                       Red Blend  \n",
       "...                           ...  \n",
       "82651                  Chardonnay  \n",
       "82653          Cabernet Sauvignon  \n",
       "82654                       Gamay  \n",
       "82655    Bordeaux-style Red Blend  \n",
       "82656          Cabernet Sauvignon  \n",
       "\n",
       "[59025 rows x 6 columns]"
      ]
     },
     "execution_count": 74,
     "metadata": {},
     "output_type": "execute_result"
    }
   ],
   "source": [
    "train.dropna()\n"
   ]
  },
  {
   "cell_type": "markdown",
   "metadata": {},
   "source": [
    "## Dealing with categorical values"
   ]
  },
  {
   "cell_type": "code",
   "execution_count": 75,
   "metadata": {},
   "outputs": [],
   "source": [
    "dummies_train_country  = pd.get_dummies(train['country'])\n",
    "dummies_train_country.drop(['France'],axis=1,inplace=True)\n",
    "\n",
    "dummies_test_country  = pd.get_dummies(test['country'])\n",
    "dummies_test_country.drop(['France'],axis=1,inplace=True)\n",
    "\n",
    "train = train.join(dummies_train_country)\n",
    "test = test.join(dummies_test_country)\n",
    "\n",
    "test.drop(['country'],axis=1,inplace=True)\n",
    "train.drop(['country'],axis=1,inplace=True)\n"
   ]
  },
  {
   "cell_type": "code",
   "execution_count": 76,
   "metadata": {},
   "outputs": [
    {
     "name": "stdout",
     "output_type": "stream",
     "text": [
      "<class 'pandas.core.frame.DataFrame'>\n",
      "Int64Index: 63633 entries, 1 to 82656\n",
      "Data columns (total 7 columns):\n",
      "review_title          63633 non-null object\n",
      "review_description    63633 non-null object\n",
      "points                63633 non-null int64\n",
      "price                 59025 non-null float64\n",
      "variety               63633 non-null object\n",
      "Italy                 63633 non-null uint8\n",
      "US                    63633 non-null uint8\n",
      "dtypes: float64(1), int64(1), object(3), uint8(2)\n",
      "memory usage: 5.5+ MB\n"
     ]
    }
   ],
   "source": [
    "train.info()"
   ]
  },
  {
   "cell_type": "markdown",
   "metadata": {},
   "source": [
    "## scaling numerical features"
   ]
  },
  {
   "cell_type": "code",
   "execution_count": 77,
   "metadata": {},
   "outputs": [],
   "source": [
    "train['points']=(train['points']-train['points'].mean())/train['points'].std()\n",
    "test['points']=(test['points']-test['points'].mean())/test['points'].std()\n",
    "\n",
    "train['price']=(train['price']-train['price'].mean())/train['price'].std()\n",
    "test['price']=(test['price']-test['price'].mean())/test['price'].std()"
   ]
  },
  {
   "cell_type": "code",
   "execution_count": 78,
   "metadata": {},
   "outputs": [
    {
     "data": {
      "text/html": [
       "<div>\n",
       "<style scoped>\n",
       "    .dataframe tbody tr th:only-of-type {\n",
       "        vertical-align: middle;\n",
       "    }\n",
       "\n",
       "    .dataframe tbody tr th {\n",
       "        vertical-align: top;\n",
       "    }\n",
       "\n",
       "    .dataframe thead th {\n",
       "        text-align: right;\n",
       "    }\n",
       "</style>\n",
       "<table border=\"1\" class=\"dataframe\">\n",
       "  <thead>\n",
       "    <tr style=\"text-align: right;\">\n",
       "      <th></th>\n",
       "      <th>review_title</th>\n",
       "      <th>review_description</th>\n",
       "      <th>points</th>\n",
       "      <th>price</th>\n",
       "      <th>variety</th>\n",
       "      <th>Italy</th>\n",
       "      <th>US</th>\n",
       "    </tr>\n",
       "  </thead>\n",
       "  <tbody>\n",
       "    <tr>\n",
       "      <td>1</td>\n",
       "      <td>North by Northwest 2014 Red (Columbia Valley (...</td>\n",
       "      <td>This wine is near equal parts Syrah and Merlot...</td>\n",
       "      <td>0.086640</td>\n",
       "      <td>-0.538004</td>\n",
       "      <td>Red Blend</td>\n",
       "      <td>0</td>\n",
       "      <td>1</td>\n",
       "    </tr>\n",
       "    <tr>\n",
       "      <td>2</td>\n",
       "      <td>Renato Ratti 2007 Conca  (Barolo)</td>\n",
       "      <td>Barolo Conca opens with inky dark concentratio...</td>\n",
       "      <td>1.711035</td>\n",
       "      <td>0.863237</td>\n",
       "      <td>Nebbiolo</td>\n",
       "      <td>1</td>\n",
       "      <td>0</td>\n",
       "    </tr>\n",
       "    <tr>\n",
       "      <td>3</td>\n",
       "      <td>Domaine l'Ancienne Cure 2010 L'Abbaye White (B...</td>\n",
       "      <td>It's impressive what a small addition of Sauvi...</td>\n",
       "      <td>-0.563117</td>\n",
       "      <td>-0.387101</td>\n",
       "      <td>Bordeaux-style White Blend</td>\n",
       "      <td>0</td>\n",
       "      <td>0</td>\n",
       "    </tr>\n",
       "    <tr>\n",
       "      <td>4</td>\n",
       "      <td>Château du Cèdre 2012 Le Cèdre Vintage Malbec ...</td>\n",
       "      <td>This ripe, sweet wine is rich and full of drie...</td>\n",
       "      <td>-0.238238</td>\n",
       "      <td>-0.149968</td>\n",
       "      <td>Malbec</td>\n",
       "      <td>0</td>\n",
       "      <td>0</td>\n",
       "    </tr>\n",
       "    <tr>\n",
       "      <td>6</td>\n",
       "      <td>Gordon Estate 2012 Tradition Red (Columbia Val...</td>\n",
       "      <td>Half Syrah and half Cabernet Sauvignon, with 4...</td>\n",
       "      <td>0.736398</td>\n",
       "      <td>0.108723</td>\n",
       "      <td>Red Blend</td>\n",
       "      <td>0</td>\n",
       "      <td>1</td>\n",
       "    </tr>\n",
       "    <tr>\n",
       "      <td>7</td>\n",
       "      <td>Rock Wall 2014 Monte Rosso Reserve Zinfandel (...</td>\n",
       "      <td>High-toned red fruit stars in this wine, a nic...</td>\n",
       "      <td>0.411519</td>\n",
       "      <td>0.216510</td>\n",
       "      <td>Zinfandel</td>\n",
       "      <td>0</td>\n",
       "      <td>1</td>\n",
       "    </tr>\n",
       "    <tr>\n",
       "      <td>8</td>\n",
       "      <td>Elizabeth Chambers 2014 Falcon Glen Vineyard P...</td>\n",
       "      <td>Displaying typical McMinnville AVA subtlety, t...</td>\n",
       "      <td>0.736398</td>\n",
       "      <td>0.173395</td>\n",
       "      <td>Pinot Noir</td>\n",
       "      <td>0</td>\n",
       "      <td>1</td>\n",
       "    </tr>\n",
       "  </tbody>\n",
       "</table>\n",
       "</div>"
      ],
      "text/plain": [
       "                                        review_title  \\\n",
       "1  North by Northwest 2014 Red (Columbia Valley (...   \n",
       "2                  Renato Ratti 2007 Conca  (Barolo)   \n",
       "3  Domaine l'Ancienne Cure 2010 L'Abbaye White (B...   \n",
       "4  Château du Cèdre 2012 Le Cèdre Vintage Malbec ...   \n",
       "6  Gordon Estate 2012 Tradition Red (Columbia Val...   \n",
       "7  Rock Wall 2014 Monte Rosso Reserve Zinfandel (...   \n",
       "8  Elizabeth Chambers 2014 Falcon Glen Vineyard P...   \n",
       "\n",
       "                                  review_description    points     price  \\\n",
       "1  This wine is near equal parts Syrah and Merlot...  0.086640 -0.538004   \n",
       "2  Barolo Conca opens with inky dark concentratio...  1.711035  0.863237   \n",
       "3  It's impressive what a small addition of Sauvi... -0.563117 -0.387101   \n",
       "4  This ripe, sweet wine is rich and full of drie... -0.238238 -0.149968   \n",
       "6  Half Syrah and half Cabernet Sauvignon, with 4...  0.736398  0.108723   \n",
       "7  High-toned red fruit stars in this wine, a nic...  0.411519  0.216510   \n",
       "8  Displaying typical McMinnville AVA subtlety, t...  0.736398  0.173395   \n",
       "\n",
       "                      variety  Italy  US  \n",
       "1                   Red Blend      0   1  \n",
       "2                    Nebbiolo      1   0  \n",
       "3  Bordeaux-style White Blend      0   0  \n",
       "4                      Malbec      0   0  \n",
       "6                   Red Blend      0   1  \n",
       "7                   Zinfandel      0   1  \n",
       "8                  Pinot Noir      0   1  "
      ]
     },
     "execution_count": 78,
     "metadata": {},
     "output_type": "execute_result"
    }
   ],
   "source": [
    "train.head(7)"
   ]
  },
  {
   "cell_type": "code",
   "execution_count": 79,
   "metadata": {},
   "outputs": [],
   "source": [
    "train.drop(['review_title'],axis=1,inplace=True)\n",
    "test.drop(['review_title'],axis=1,inplace=True)"
   ]
  },
  {
   "cell_type": "code",
   "execution_count": 80,
   "metadata": {},
   "outputs": [
    {
     "data": {
      "text/html": [
       "<div>\n",
       "<style scoped>\n",
       "    .dataframe tbody tr th:only-of-type {\n",
       "        vertical-align: middle;\n",
       "    }\n",
       "\n",
       "    .dataframe tbody tr th {\n",
       "        vertical-align: top;\n",
       "    }\n",
       "\n",
       "    .dataframe thead th {\n",
       "        text-align: right;\n",
       "    }\n",
       "</style>\n",
       "<table border=\"1\" class=\"dataframe\">\n",
       "  <thead>\n",
       "    <tr style=\"text-align: right;\">\n",
       "      <th></th>\n",
       "      <th>review_description</th>\n",
       "      <th>points</th>\n",
       "      <th>price</th>\n",
       "      <th>variety</th>\n",
       "      <th>Italy</th>\n",
       "      <th>US</th>\n",
       "    </tr>\n",
       "  </thead>\n",
       "  <tbody>\n",
       "    <tr>\n",
       "      <td>1</td>\n",
       "      <td>This wine is near equal parts Syrah and Merlot...</td>\n",
       "      <td>0.086640</td>\n",
       "      <td>-0.538004</td>\n",
       "      <td>Red Blend</td>\n",
       "      <td>0</td>\n",
       "      <td>1</td>\n",
       "    </tr>\n",
       "    <tr>\n",
       "      <td>2</td>\n",
       "      <td>Barolo Conca opens with inky dark concentratio...</td>\n",
       "      <td>1.711035</td>\n",
       "      <td>0.863237</td>\n",
       "      <td>Nebbiolo</td>\n",
       "      <td>1</td>\n",
       "      <td>0</td>\n",
       "    </tr>\n",
       "    <tr>\n",
       "      <td>3</td>\n",
       "      <td>It's impressive what a small addition of Sauvi...</td>\n",
       "      <td>-0.563117</td>\n",
       "      <td>-0.387101</td>\n",
       "      <td>Bordeaux-style White Blend</td>\n",
       "      <td>0</td>\n",
       "      <td>0</td>\n",
       "    </tr>\n",
       "    <tr>\n",
       "      <td>4</td>\n",
       "      <td>This ripe, sweet wine is rich and full of drie...</td>\n",
       "      <td>-0.238238</td>\n",
       "      <td>-0.149968</td>\n",
       "      <td>Malbec</td>\n",
       "      <td>0</td>\n",
       "      <td>0</td>\n",
       "    </tr>\n",
       "    <tr>\n",
       "      <td>6</td>\n",
       "      <td>Half Syrah and half Cabernet Sauvignon, with 4...</td>\n",
       "      <td>0.736398</td>\n",
       "      <td>0.108723</td>\n",
       "      <td>Red Blend</td>\n",
       "      <td>0</td>\n",
       "      <td>1</td>\n",
       "    </tr>\n",
       "    <tr>\n",
       "      <td>7</td>\n",
       "      <td>High-toned red fruit stars in this wine, a nic...</td>\n",
       "      <td>0.411519</td>\n",
       "      <td>0.216510</td>\n",
       "      <td>Zinfandel</td>\n",
       "      <td>0</td>\n",
       "      <td>1</td>\n",
       "    </tr>\n",
       "    <tr>\n",
       "      <td>8</td>\n",
       "      <td>Displaying typical McMinnville AVA subtlety, t...</td>\n",
       "      <td>0.736398</td>\n",
       "      <td>0.173395</td>\n",
       "      <td>Pinot Noir</td>\n",
       "      <td>0</td>\n",
       "      <td>1</td>\n",
       "    </tr>\n",
       "  </tbody>\n",
       "</table>\n",
       "</div>"
      ],
      "text/plain": [
       "                                  review_description    points     price  \\\n",
       "1  This wine is near equal parts Syrah and Merlot...  0.086640 -0.538004   \n",
       "2  Barolo Conca opens with inky dark concentratio...  1.711035  0.863237   \n",
       "3  It's impressive what a small addition of Sauvi... -0.563117 -0.387101   \n",
       "4  This ripe, sweet wine is rich and full of drie... -0.238238 -0.149968   \n",
       "6  Half Syrah and half Cabernet Sauvignon, with 4...  0.736398  0.108723   \n",
       "7  High-toned red fruit stars in this wine, a nic...  0.411519  0.216510   \n",
       "8  Displaying typical McMinnville AVA subtlety, t...  0.736398  0.173395   \n",
       "\n",
       "                      variety  Italy  US  \n",
       "1                   Red Blend      0   1  \n",
       "2                    Nebbiolo      1   0  \n",
       "3  Bordeaux-style White Blend      0   0  \n",
       "4                      Malbec      0   0  \n",
       "6                   Red Blend      0   1  \n",
       "7                   Zinfandel      0   1  \n",
       "8                  Pinot Noir      0   1  "
      ]
     },
     "execution_count": 80,
     "metadata": {},
     "output_type": "execute_result"
    }
   ],
   "source": [
    "train.head(7)"
   ]
  },
  {
   "cell_type": "markdown",
   "metadata": {},
   "source": [
    "##  review_description\n",
    " \n",
    " #### converting text features into vectors"
   ]
  },
  {
   "cell_type": "code",
   "execution_count": 81,
   "metadata": {},
   "outputs": [],
   "source": [
    "from sklearn.feature_extraction.text import TfidfVectorizer\n",
    "from scipy.sparse import hstack, csr_matrix\n",
    "\n",
    "\n",
    "vect = TfidfVectorizer(sublinear_tf=True, max_df=0.5, analyzer='word', stop_words='english')\n",
    "\n",
    "X_Train_vec = vect.fit_transform(train['review_description'])\n",
    "X_Test_vec = vect.transform(test['review_description'])"
   ]
  },
  {
   "cell_type": "markdown",
   "metadata": {},
   "source": [
    "## hashing numerical and text feature"
   ]
  },
  {
   "cell_type": "code",
   "execution_count": 82,
   "metadata": {},
   "outputs": [],
   "source": [
    "# points=np.array(train['points'])\n",
    "# price=np.array(train['price'])\n",
    "# italy=np.array(train['Italy'])\n",
    "# us=np.array(train['US'])\n",
    "\n",
    "X_numerical=np.array(train[['points','price','Italy','US']])\n",
    "\n",
    "# points_test=np.array(test['points'])\n",
    "# price_test=np.array(test['price'])\n",
    "# italy_test=np.array(test['Italy'])\n",
    "# us_test=np.array(test['US'])\n",
    "\n",
    "\n",
    "\n",
    "X= hstack([X_Train_vec, csr_matrix(X_numerical)], 'csr')\n",
    "Y=train['variety']\n",
    "\n",
    "\n",
    "#X= hstack([X_Train_vec, csr_matrix(X_numerical)], 'csr')\n",
    "\n"
   ]
  },
  {
   "cell_type": "code",
   "execution_count": 43,
   "metadata": {},
   "outputs": [],
   "source": [
    "from sklearn.model_selection import train_test_split\n",
    "\n",
    "X_Train, X_Test, Y_Train, Y_Test = train_test_split(X, Y, test_size = 0.20, random_state = 10)"
   ]
  },
  {
   "cell_type": "markdown",
   "metadata": {},
   "source": [
    "## XGboost model + Hyperparametre tuning"
   ]
  },
  {
   "cell_type": "code",
   "execution_count": 44,
   "metadata": {},
   "outputs": [],
   "source": [
    "from sklearn.model_selection import RandomizedSearchCV, GridSearchCV\n",
    "import xgboost\n",
    "classifier=xgboost.XGBClassifier()"
   ]
  },
  {
   "cell_type": "code",
   "execution_count": 45,
   "metadata": {},
   "outputs": [],
   "source": [
    "params={\n",
    " \"learning_rate\"    : [0.05, 0.10, 0.20, 0.25, 0.30,0.50] ,\n",
    " \"max_depth\"        : [ 3, 4, 5, 6, 8, 10, 12, 15],\n",
    " \"min_child_weight\" : [ 1, 3, 5, 7 ],\n",
    " \"gamma\"            : [ 0.0, 0.1, 0.2 , 0.3, 0.4 ],\n",
    " \"colsample_bytree\" : [ 0.3, 0.4, 0.5 , 0.7 ],\n",
    " \"n_estimators\"     : [100,300,500,700,800,1000]\n",
    "    \n",
    "}"
   ]
  },
  {
   "cell_type": "code",
   "execution_count": 46,
   "metadata": {},
   "outputs": [],
   "source": [
    "random_search=RandomizedSearchCV(classifier,param_distributions=params,n_iter=5,n_jobs=-1,cv=5,verbose=3)"
   ]
  },
  {
   "cell_type": "code",
   "execution_count": 47,
   "metadata": {},
   "outputs": [
    {
     "name": "stdout",
     "output_type": "stream",
     "text": [
      "Fitting 5 folds for each of 5 candidates, totalling 25 fits\n"
     ]
    },
    {
     "name": "stderr",
     "output_type": "stream",
     "text": [
      "[Parallel(n_jobs=-1)]: Using backend LokyBackend with 12 concurrent workers.\n",
      "[Parallel(n_jobs=-1)]: Done  11 out of  25 | elapsed: 80.4min remaining: 102.3min\n",
      "[Parallel(n_jobs=-1)]: Done  20 out of  25 | elapsed: 144.4min remaining: 36.1min\n",
      "[Parallel(n_jobs=-1)]: Done  25 out of  25 | elapsed: 217.0min finished\n"
     ]
    },
    {
     "data": {
      "text/plain": [
       "RandomizedSearchCV(cv=5, error_score=nan,\n",
       "                   estimator=XGBClassifier(base_score=0.5, booster='gbtree',\n",
       "                                           colsample_bylevel=1,\n",
       "                                           colsample_bynode=1,\n",
       "                                           colsample_bytree=1, gamma=0,\n",
       "                                           learning_rate=0.1, max_delta_step=0,\n",
       "                                           max_depth=3, min_child_weight=1,\n",
       "                                           missing=None, n_estimators=100,\n",
       "                                           n_jobs=1, nthread=None,\n",
       "                                           objective='binary:logistic',\n",
       "                                           random_state=0, reg_alpha=0,\n",
       "                                           reg_lambda=1, sc...\n",
       "                   iid='deprecated', n_iter=5, n_jobs=-1,\n",
       "                   param_distributions={'colsample_bytree': [0.3, 0.4, 0.5,\n",
       "                                                             0.7],\n",
       "                                        'gamma': [0.0, 0.1, 0.2, 0.3, 0.4],\n",
       "                                        'learning_rate': [0.05, 0.1, 0.2, 0.25,\n",
       "                                                          0.3, 0.5],\n",
       "                                        'max_depth': [3, 4, 5, 6, 8, 10, 12,\n",
       "                                                      15],\n",
       "                                        'min_child_weight': [1, 3, 5, 7],\n",
       "                                        'n_estimators': [100, 300, 500, 700,\n",
       "                                                         800, 1000]},\n",
       "                   pre_dispatch='2*n_jobs', random_state=None, refit=True,\n",
       "                   return_train_score=False, scoring=None, verbose=3)"
      ]
     },
     "execution_count": 47,
     "metadata": {},
     "output_type": "execute_result"
    }
   ],
   "source": [
    "random_search.fit(X_Train, Y_Train)"
   ]
  },
  {
   "cell_type": "code",
   "execution_count": 51,
   "metadata": {},
   "outputs": [
    {
     "name": "stdout",
     "output_type": "stream",
     "text": [
      "Confusion Matrix:\n",
      "[[ 896    2    3   51    1   11    5    0    0    2    4    0    0    0\n",
      "    39   13    0    0    6    0    2    0    4    0    0    0]\n",
      " [   6  101    0    0    1   48    0    1    0    0    0    0    0    0\n",
      "     1    0    0    1    4    0   27    0    0    0    2    0]\n",
      " [  19    0   66   37    0    2    1    0    0    0    3    0    0    0\n",
      "    35    4    0    0    6    0    0    0    7    0    0    6]\n",
      " [  16    0    1  942    0    8    0    0    0    5   17    0    0    0\n",
      "    98   31    2    0    3    2    0    0   34    0    0   31]\n",
      " [   1    1    0    0  140   41    0    0    0    0    0    0    0    0\n",
      "    17    0    0    0    7    0    2   12    0    0    1    0]\n",
      " [   4    3    0    4   18 1452    0    2    0    0    0    0    5    5\n",
      "    14    0    0   12    0    0   15   16    0    0    7    1]\n",
      " [  49    0    0    0    0    3  101    0    0    0    0    0    0    0\n",
      "    18    1    0    0   14    0    0    0    0    0    1    0]\n",
      " [   0    2    0    0    0   20    0   94    0    0    0    0    1    4\n",
      "     1    0    0   10    2    0    1    0    0    0    1    0]\n",
      " [   0    0    0    0    0    3    0    0    2    0    0    0    1    0\n",
      "     0    0    0    3    0    0    3    0    0    0    0    0]\n",
      " [  40    0    0   17    0    3    2    0    0   55    5    0    0    0\n",
      "    27    1    0    0    0    0    0    0   13    0    0    2]\n",
      " [  26    0    3   86    0    9    0    0    0    1  194    0    0    0\n",
      "    46   18    0    0    2    2    2    2   12    0    0   10]\n",
      " [   0    0    0    0    0    0    0    0    0    0    0  373    0    0\n",
      "     2   19    0    0    0   30    0    0    1    0    0    0]\n",
      " [   0    0    0    0    0   23    0    2    0    0    1    0   94    5\n",
      "     2    0    0    1    0    0    7    1    0    0   15    0]\n",
      " [   0    0    0    0    0   53    0    9    0    0    0    0    0  120\n",
      "     3    0    0    7    4    0   10    0    0    0    1    0]\n",
      " [  63    0    0   47    5   22   13    0    0    0    4    0    0    0\n",
      "  1662    5    2    0   36    0    2    9    7    0    0    8]\n",
      " [  50    0    3   48    0    8    0    0    0    3   11   34    1    0\n",
      "    42  778   17    0    5   68    1    0   15    1    1   31]\n",
      " [  14    0    0    2    0    2    1    0    0    1    0    0    0    0\n",
      "    21   13  162    0    3    0    0    0   17    0    0    1]\n",
      " [   1    0    0    1    2   61    0    5    0    0    0    0    1    6\n",
      "     3    0    0  281    3    0   17    1    0    0    4    0]\n",
      " [   6    2    0    0    2   18    1    1    0    1    4    0    0    1\n",
      "    37    8    4    2  370    1    5    3    1    0    2    0]\n",
      " [   0    0    0   12    0    4    0    0    0    0    5   55    0    0\n",
      "    13   76    0    0    2  282    0    0    2    0    0    5]\n",
      " [   1    7    0    0    0  141    0    1    0    0    0    1    1    0\n",
      "     0    0    0   10    4    0  360    0    0    0    4    0]\n",
      " [   1    0    0    1    3   30    0    0    0    0    2    1    0    3\n",
      "     9    0    0    4   12    0    2  168    0    0    5    0]\n",
      " [   3    0    1   89    0    6    0    0    0    0    9    0    0    0\n",
      "    49   14   11    2    5    3    1    0  326    0    0   17]\n",
      " [   0    0    2   11    0    3    0    0    0    0    4    0    0    0\n",
      "    16    1    1    0    2    0    0    0    1   16    0    0]\n",
      " [   0    3    0    1    0   35    0    5    0    0    0    0   14    2\n",
      "     2    2    0    9    2    0   18    1    0    0  181    1]\n",
      " [   0    0    0   40    0    7    0    1    0    0    8    0    0    0\n",
      "    66   16    1    0    3    0    0    0   19    0    0  293]]\n",
      "\n",
      "Classification Report\n",
      "                            precision    recall  f1-score   support\n",
      "\n",
      "  Bordeaux-style Red Blend       0.75      0.86      0.80      1039\n",
      "Bordeaux-style White Blend       0.83      0.53      0.65       192\n",
      "            Cabernet Franc       0.84      0.35      0.50       186\n",
      "        Cabernet Sauvignon       0.68      0.79      0.73      1190\n",
      "           Champagne Blend       0.81      0.63      0.71       222\n",
      "                Chardonnay       0.72      0.93      0.81      1558\n",
      "                     Gamay       0.81      0.54      0.65       187\n",
      "            Gewürztraminer       0.78      0.69      0.73       136\n",
      "          Grüner Veltliner       1.00      0.17      0.29        12\n",
      "                    Malbec       0.81      0.33      0.47       165\n",
      "                    Merlot       0.72      0.47      0.57       413\n",
      "                  Nebbiolo       0.80      0.88      0.84       425\n",
      "              Pinot Grigio       0.80      0.62      0.70       151\n",
      "                Pinot Gris       0.82      0.58      0.68       207\n",
      "                Pinot Noir       0.75      0.88      0.81      1885\n",
      "                 Red Blend       0.78      0.70      0.74      1117\n",
      "     Rhône-style Red Blend       0.81      0.68      0.74       237\n",
      "                  Riesling       0.82      0.73      0.77       386\n",
      "                      Rosé       0.75      0.79      0.77       469\n",
      "                Sangiovese       0.73      0.62      0.67       456\n",
      "           Sauvignon Blanc       0.76      0.68      0.72       530\n",
      "           Sparkling Blend       0.79      0.70      0.74       241\n",
      "                     Syrah       0.71      0.61      0.66       536\n",
      "               Tempranillo       0.94      0.28      0.43        57\n",
      "               White Blend       0.80      0.66      0.72       276\n",
      "                 Zinfandel       0.72      0.65      0.68       454\n",
      "\n",
      "                  accuracy                           0.75     12727\n",
      "                 macro avg       0.79      0.63      0.68     12727\n",
      "              weighted avg       0.75      0.75      0.74     12727\n",
      "\n"
     ]
    }
   ],
   "source": [
    "predictions = random_search.predict(X_Test)\n",
    "print(\"Confusion Matrix:\")\n",
    "print(confusion_matrix(Y_Test, predictions))\n",
    "print()\n",
    "print(\"Classification Report\")\n",
    "print(classification_report(Y_Test, predictions))"
   ]
  },
  {
   "cell_type": "markdown",
   "metadata": {},
   "source": [
    "## Hashing test set"
   ]
  },
  {
   "cell_type": "code",
   "execution_count": 52,
   "metadata": {},
   "outputs": [],
   "source": [
    "X_numerical_test=np.array(test[['points','price','Italy','US']])\n",
    "X_TEST= hstack([X_Test_vec, csr_matrix(X_numerical_test)], 'csr')"
   ]
  },
  {
   "cell_type": "code",
   "execution_count": null,
   "metadata": {},
   "outputs": [],
   "source": [
    "# from sklearn.ensemble import GradientBoostingClassifier\n",
    "# from sklearn.metrics import classification_report, confusion_matrix, roc_curve, auc\n",
    "# learning_rates = [0.05, 0.1, 0.25, 0.5, 0.75, 1]\n",
    "# for learning_rate in learning_rates:\n",
    "#     gb = GradientBoostingClassifier(n_estimators=1000, learning_rate = learning_rate, max_depth = 9, random_state = 0)\n",
    "#     gb.fit(X_Train, Y_Train)\n",
    "#     print(\"Learning rate: \", learning_rate)\n",
    "#     print(\"Accuracy score (training): {0:.3f}\".format(gb.score(X_Train, Y_Train)))\n",
    "#     print(\"Accuracy score (validation): {0:.3f}\".format(gb.score(X_Test, Y_Test)))\n",
    "#     print()"
   ]
  },
  {
   "cell_type": "code",
   "execution_count": null,
   "metadata": {},
   "outputs": [],
   "source": [
    "# gb = GradientBoostingClassifier(n_estimators=1100, learning_rate = 0.25, max_depth =7 , random_state = 0)\n",
    "# gb.fit(X_Train, Y_Train)\n",
    "# predictions = gb.predict(X_Test)\n",
    "\n",
    "# print(\"Confusion Matrix:\")\n",
    "# print(confusion_matrix(Y_Test, predictions))\n",
    "# print()\n",
    "# print(\"Classification Report\")\n",
    "# print(classification_report(Y_Test, predictions))"
   ]
  },
  {
   "cell_type": "code",
   "execution_count": 54,
   "metadata": {},
   "outputs": [],
   "source": [
    "Final_pred=random_search.predict(X_TEST)\n",
    "test['variety']=Final_pred"
   ]
  },
  {
   "cell_type": "code",
   "execution_count": 55,
   "metadata": {},
   "outputs": [],
   "source": [
    "test.to_csv('submission.csv')"
   ]
  },
  {
   "cell_type": "code",
   "execution_count": null,
   "metadata": {},
   "outputs": [],
   "source": []
  }
 ],
 "metadata": {
  "kernelspec": {
   "display_name": "Python 3",
   "language": "python",
   "name": "python3"
  },
  "language_info": {
   "codemirror_mode": {
    "name": "ipython",
    "version": 3
   },
   "file_extension": ".py",
   "mimetype": "text/x-python",
   "name": "python",
   "nbconvert_exporter": "python",
   "pygments_lexer": "ipython3",
   "version": "3.7.7"
  }
 },
 "nbformat": 4,
 "nbformat_minor": 2
}
