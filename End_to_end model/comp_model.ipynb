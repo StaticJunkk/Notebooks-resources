{
 "cells": [
  {
   "cell_type": "code",
   "execution_count": 377,
   "metadata": {},
   "outputs": [],
   "source": [
    "import numpy as np \n",
    "import pandas as pd \n",
    "import seaborn as sns\n",
    "import matplotlib.pyplot as plt\n",
    "import category_encoders as ce   \n",
    "from sklearn.preprocessing import LabelEncoder"
   ]
  },
  {
   "cell_type": "code",
   "execution_count": 378,
   "metadata": {},
   "outputs": [
    {
     "name": "stdout",
     "output_type": "stream",
     "text": [
      "<class 'pandas.core.frame.DataFrame'>\n",
      "RangeIndex: 26048 entries, 0 to 26047\n",
      "Data columns (total 12 columns):\n",
      "id                      26048 non-null int64\n",
      "relationship_status     26048 non-null object\n",
      "industry                26048 non-null object\n",
      "genre                   26048 non-null object\n",
      "targeted_sex            26048 non-null object\n",
      "average_runtime         26048 non-null int64\n",
      "airtime                 26048 non-null object\n",
      "airlocation             26048 non-null object\n",
      "ratings                 26048 non-null float64\n",
      "expensive               26048 non-null object\n",
      "money_back_guarantee    26048 non-null object\n",
      "netgain                 26048 non-null bool\n",
      "dtypes: bool(1), float64(1), int64(2), object(8)\n",
      "memory usage: 2.2+ MB\n"
     ]
    }
   ],
   "source": [
    "import warnings\n",
    "warnings.filterwarnings('ignore')\n",
    "\n",
    "train_dir='E:/data_prediction/Train.csv'\n",
    "test_dir='E:/data_prediction/Test.csv'\n",
    "\n",
    "df = pd.read_csv(train_dir)\n",
    "df_test= pd.read_csv(test_dir)\n",
    "\n",
    "df.info()"
   ]
  },
  {
   "cell_type": "code",
   "execution_count": 379,
   "metadata": {},
   "outputs": [
    {
     "data": {
      "text/plain": [
       "<matplotlib.axes._subplots.AxesSubplot at 0x2465b53f1c8>"
      ]
     },
     "execution_count": 379,
     "metadata": {},
     "output_type": "execute_result"
    },
    {
     "data": {
      "image/png": "[encoded data removed]",
      "text/plain": [
       "<Figure size 432x288 with 2 Axes>"
      ]
     },
     "metadata": {
      "needs_background": "light"
     },
     "output_type": "display_data"
    }
   ],
   "source": [
    "corr=df.corr()\n",
    "sns.heatmap(corr,annot=True, xticklabels=corr.columns.values, yticklabels=corr.columns.values)"
   ]
  },
  {
   "cell_type": "code",
   "execution_count": 380,
   "metadata": {},
   "outputs": [],
   "source": [
    "import numpy as np\n",
    "import matplotlib.pyplot as plt\n",
    "from matplotlib.colors import ListedColormap\n",
    "from sklearn.model_selection import train_test_split\n",
    "from sklearn.preprocessing import StandardScaler\n",
    "from sklearn.datasets import make_moons, make_circles, make_classification\n",
    "from sklearn.neural_network import MLPClassifier\n",
    "from sklearn.neighbors import KNeighborsClassifier\n",
    "from sklearn.svm import SVC\n",
    "from sklearn.gaussian_process import GaussianProcessClassifier\n",
    "from sklearn.gaussian_process.kernels import RBF\n",
    "from sklearn.tree import DecisionTreeClassifier\n",
    "from sklearn.ensemble import RandomForestClassifier, AdaBoostClassifier\n",
    "from sklearn.naive_bayes import GaussianNB\n",
    "from sklearn.discriminant_analysis import QuadraticDiscriminantAnalysis\n",
    "from sklearn.decomposition import PCA"
   ]
  },
  {
   "cell_type": "markdown",
   "metadata": {},
   "source": [
    "###  DATA PREPOCESSING .....TAKING EACH COLUMN AT ONCE AND SIMULTANEOUSLY VISUALIZING"
   ]
  },
  {
   "cell_type": "code",
   "execution_count": 381,
   "metadata": {},
   "outputs": [
    {
     "data": {
      "text/html": [
       "<div>\n",
       "<style scoped>\n",
       "    .dataframe tbody tr th:only-of-type {\n",
       "        vertical-align: middle;\n",
       "    }\n",
       "\n",
       "    .dataframe tbody tr th {\n",
       "        vertical-align: top;\n",
       "    }\n",
       "\n",
       "    .dataframe thead th {\n",
       "        text-align: right;\n",
       "    }\n",
       "</style>\n",
       "<table border=\"1\" class=\"dataframe\">\n",
       "  <thead>\n",
       "    <tr style=\"text-align: right;\">\n",
       "      <th></th>\n",
       "      <th>relationship_status</th>\n",
       "      <th>industry</th>\n",
       "      <th>genre</th>\n",
       "      <th>targeted_sex</th>\n",
       "      <th>average_runtime</th>\n",
       "      <th>airtime</th>\n",
       "      <th>airlocation</th>\n",
       "      <th>ratings</th>\n",
       "      <th>expensive</th>\n",
       "      <th>money_back_guarantee</th>\n",
       "      <th>netgain</th>\n",
       "    </tr>\n",
       "  </thead>\n",
       "  <tbody>\n",
       "    <tr>\n",
       "      <td>0</td>\n",
       "      <td>Married-spouse-absent</td>\n",
       "      <td>Auto</td>\n",
       "      <td>Comedy</td>\n",
       "      <td>Male</td>\n",
       "      <td>45</td>\n",
       "      <td>Primetime</td>\n",
       "      <td>United-States</td>\n",
       "      <td>0.027465</td>\n",
       "      <td>High</td>\n",
       "      <td>No</td>\n",
       "      <td>False</td>\n",
       "    </tr>\n",
       "    <tr>\n",
       "      <td>1</td>\n",
       "      <td>Married-civ-spouse</td>\n",
       "      <td>Pharma</td>\n",
       "      <td>Comedy</td>\n",
       "      <td>Male</td>\n",
       "      <td>45</td>\n",
       "      <td>Primetime</td>\n",
       "      <td>United-States</td>\n",
       "      <td>0.027465</td>\n",
       "      <td>Low</td>\n",
       "      <td>No</td>\n",
       "      <td>False</td>\n",
       "    </tr>\n",
       "    <tr>\n",
       "      <td>2</td>\n",
       "      <td>Divorced</td>\n",
       "      <td>Entertainment</td>\n",
       "      <td>Comedy</td>\n",
       "      <td>Female</td>\n",
       "      <td>45</td>\n",
       "      <td>Primetime</td>\n",
       "      <td>United-States</td>\n",
       "      <td>0.027465</td>\n",
       "      <td>High</td>\n",
       "      <td>Yes</td>\n",
       "      <td>False</td>\n",
       "    </tr>\n",
       "    <tr>\n",
       "      <td>3</td>\n",
       "      <td>Separated</td>\n",
       "      <td>Political</td>\n",
       "      <td>Infomercial</td>\n",
       "      <td>Female</td>\n",
       "      <td>40</td>\n",
       "      <td>Primetime</td>\n",
       "      <td>United-States</td>\n",
       "      <td>0.027465</td>\n",
       "      <td>Low</td>\n",
       "      <td>No</td>\n",
       "      <td>False</td>\n",
       "    </tr>\n",
       "    <tr>\n",
       "      <td>4</td>\n",
       "      <td>Married-civ-spouse</td>\n",
       "      <td>Pharma</td>\n",
       "      <td>Comedy</td>\n",
       "      <td>Male</td>\n",
       "      <td>48</td>\n",
       "      <td>Primetime</td>\n",
       "      <td>United-States</td>\n",
       "      <td>0.027465</td>\n",
       "      <td>High</td>\n",
       "      <td>No</td>\n",
       "      <td>True</td>\n",
       "    </tr>\n",
       "    <tr>\n",
       "      <td>5</td>\n",
       "      <td>Divorced</td>\n",
       "      <td>Auto</td>\n",
       "      <td>Comedy</td>\n",
       "      <td>Female</td>\n",
       "      <td>40</td>\n",
       "      <td>Primetime</td>\n",
       "      <td>United-States</td>\n",
       "      <td>0.027465</td>\n",
       "      <td>Low</td>\n",
       "      <td>Yes</td>\n",
       "      <td>False</td>\n",
       "    </tr>\n",
       "    <tr>\n",
       "      <td>6</td>\n",
       "      <td>Married-civ-spouse</td>\n",
       "      <td>Pharma</td>\n",
       "      <td>Infomercial</td>\n",
       "      <td>Male</td>\n",
       "      <td>50</td>\n",
       "      <td>Morning</td>\n",
       "      <td>Outlying-US(Guam-USVI-etc)</td>\n",
       "      <td>0.027465</td>\n",
       "      <td>High</td>\n",
       "      <td>No</td>\n",
       "      <td>False</td>\n",
       "    </tr>\n",
       "  </tbody>\n",
       "</table>\n",
       "</div>"
      ],
      "text/plain": [
       "     relationship_status       industry        genre targeted_sex  \\\n",
       "0  Married-spouse-absent           Auto       Comedy         Male   \n",
       "1     Married-civ-spouse         Pharma       Comedy         Male   \n",
       "2               Divorced  Entertainment       Comedy       Female   \n",
       "3              Separated      Political  Infomercial       Female   \n",
       "4     Married-civ-spouse         Pharma       Comedy         Male   \n",
       "5               Divorced           Auto       Comedy       Female   \n",
       "6     Married-civ-spouse         Pharma  Infomercial         Male   \n",
       "\n",
       "   average_runtime    airtime                 airlocation   ratings expensive  \\\n",
       "0               45  Primetime               United-States  0.027465      High   \n",
       "1               45  Primetime               United-States  0.027465       Low   \n",
       "2               45  Primetime               United-States  0.027465      High   \n",
       "3               40  Primetime               United-States  0.027465       Low   \n",
       "4               48  Primetime               United-States  0.027465      High   \n",
       "5               40  Primetime               United-States  0.027465       Low   \n",
       "6               50    Morning  Outlying-US(Guam-USVI-etc)  0.027465      High   \n",
       "\n",
       "  money_back_guarantee  netgain  \n",
       "0                   No    False  \n",
       "1                   No    False  \n",
       "2                  Yes    False  \n",
       "3                   No    False  \n",
       "4                   No     True  \n",
       "5                  Yes    False  \n",
       "6                   No    False  "
      ]
     },
     "execution_count": 381,
     "metadata": {},
     "output_type": "execute_result"
    }
   ],
   "source": [
    "# REMOVING NON-REQUIERED FEATURES\n",
    "\n",
    "train = df.drop( ['id'] ,axis=1)\n",
    "test = df_test.drop( ['id'] ,axis=1)\n",
    "\n",
    "train.head(7)"
   ]
  },
  {
   "cell_type": "markdown",
   "metadata": {},
   "source": [
    "##### column 5 average_runtime(minutes_per_week) \t"
   ]
  },
  {
   "cell_type": "code",
   "execution_count": 382,
   "metadata": {},
   "outputs": [
    {
     "data": {
      "text/plain": [
       "<matplotlib.axes._subplots.AxesSubplot at 0x246438c67c8>"
      ]
     },
     "execution_count": 382,
     "metadata": {},
     "output_type": "execute_result"
    },
    {
     "data": {
      "image/png": "[encoded data removed]",
      "text/plain": [
       "<Figure size 432x288 with 1 Axes>"
      ]
     },
     "metadata": {
      "needs_background": "light"
     },
     "output_type": "display_data"
    }
   ],
   "source": [
    "# CONVERTING EVERYHTING TO FLOAT\n",
    "train['average_runtime']=train['average_runtime'].astype(float)\n",
    "test['average_runtime']=test['average_runtime'].astype(float)\n",
    "\n",
    "train['average_runtime'].hist(bins=70)"
   ]
  },
  {
   "cell_type": "markdown",
   "metadata": {},
   "source": [
    "##### column 8 ratings"
   ]
  },
  {
   "cell_type": "code",
   "execution_count": 383,
   "metadata": {},
   "outputs": [
    {
     "name": "stdout",
     "output_type": "stream",
     "text": [
      "2242\n",
      "565\n",
      "0.08607186732186732\n",
      "0.08674957776754184\n"
     ]
    }
   ],
   "source": [
    "# counting ratings higher than 0.027464673 \n",
    "# finding percent of samples having rating higher than 0.027464672\n",
    "\n",
    "high_ratings_train=train['ratings'][train.ratings>0.027464673]\n",
    "high_ratings_test=test['ratings'][test.ratings>0.027464673]\n",
    "\n",
    "print(len(high_ratings_train))\n",
    "print(len(high_ratings_test))\n",
    "\n",
    "print(len(high_ratings_train)/len(train.ratings))\n",
    "print(len(high_ratings_test)/len(test.ratings))\n"
   ]
  },
  {
   "cell_type": "code",
   "execution_count": 384,
   "metadata": {},
   "outputs": [
    {
     "data": {
      "text/plain": [
       "<matplotlib.axes._subplots.AxesSubplot at 0x24636778048>"
      ]
     },
     "execution_count": 384,
     "metadata": {},
     "output_type": "execute_result"
    },
    {
     "data": {
      "image/png": "[encoded data removed]",
      "text/plain": [
       "<Figure size 432x288 with 1 Axes>"
      ]
     },
     "metadata": {
      "needs_background": "light"
     },
     "output_type": "display_data"
    }
   ],
   "source": [
    "train['ratings'].hist(bins=70)"
   ]
  },
  {
   "cell_type": "code",
   "execution_count": 385,
   "metadata": {},
   "outputs": [],
   "source": [
    "# BASED ON ABOVE ANALYSIS IT IS OK TO DROP RATINGS COLUMNS..\n",
    "# CONSIDERING NETGAIN INDEPENDENT OF RATINGS\n",
    "\n",
    "train.drop(['ratings'],axis=1,inplace=True)\n",
    "test.drop(['ratings'],axis=1,inplace=True)"
   ]
  },
  {
   "cell_type": "markdown",
   "metadata": {},
   "source": [
    "##### column 7 airlocation"
   ]
  },
  {
   "cell_type": "code",
   "execution_count": 386,
   "metadata": {},
   "outputs": [
    {
     "name": "stdout",
     "output_type": "stream",
     "text": [
      "0.10741707616707617\n",
      "0.10839858744050361\n",
      "42\n"
     ]
    }
   ],
   "source": [
    "# MOST FREQUENT IS USA\n",
    "\n",
    "frequent_location_train=train['airlocation'][train.airlocation!='United-States']\n",
    "frequent_location_test=test['airlocation'][test.airlocation!='United-States']\n",
    "\n",
    "print(len(frequent_location_train)/len(train))\n",
    "print(len(frequent_location_test)/len(test))\n",
    "\n",
    "t=len(train.airlocation.unique())\n",
    "print(t)"
   ]
  },
  {
   "cell_type": "code",
   "execution_count": 387,
   "metadata": {},
   "outputs": [
    {
     "data": {
      "text/plain": [
       "<matplotlib.axes._subplots.AxesSubplot at 0x246365b7408>"
      ]
     },
     "execution_count": 387,
     "metadata": {},
     "output_type": "execute_result"
    },
    {
     "data": {
      "image/png": "[encoded data removed]",
      "text/plain": [
       "<Figure size 432x288 with 1 Axes>"
      ]
     },
     "metadata": {
      "needs_background": "light"
     },
     "output_type": "display_data"
    }
   ],
   "source": [
    "train['airlocation'].hist(bins=42,xlabelsize =5)"
   ]
  },
  {
   "cell_type": "code",
   "execution_count": 388,
   "metadata": {},
   "outputs": [],
   "source": [
    "# FOR SAME REASON AS RATINGS DROPPING AIRLOCATION COLUMN\n",
    "\n",
    "train.drop(['airlocation'],axis=1,inplace=True)\n",
    "test.drop(['airlocation'],axis=1,inplace=True)"
   ]
  },
  {
   "cell_type": "markdown",
   "metadata": {},
   "source": [
    "###### column 4 targeted_sex"
   ]
  },
  {
   "cell_type": "code",
   "execution_count": 389,
   "metadata": {},
   "outputs": [
    {
     "data": {
      "text/plain": [
       "<matplotlib.axes._subplots.AxesSubplot at 0x2465b92ed48>"
      ]
     },
     "execution_count": 389,
     "metadata": {},
     "output_type": "execute_result"
    },
    {
     "data": {
      "image/png": "[encoded data removed]",
      "text/plain": [
       "<Figure size 432x288 with 1 Axes>"
      ]
     },
     "metadata": {
      "needs_background": "light"
     },
     "output_type": "display_data"
    }
   ],
   "source": [
    "sns.barplot(x='netgain',y='targeted_sex',errwidth=0.2,capsize=0.1,dodge=True,data=train)"
   ]
  },
  {
   "cell_type": "code",
   "execution_count": 390,
   "metadata": {},
   "outputs": [],
   "source": [
    "# creating dummy column and dropping female column\n",
    "\n",
    "dummies_train_sex  = pd.get_dummies(train['targeted_sex'])\n",
    "dummies_train_sex.drop(['Female'],axis=1,inplace=True)\n",
    "\n",
    "dummies_test_sex  = pd.get_dummies(test['targeted_sex'])\n",
    "dummies_test_sex.drop(['Female'],axis=1,inplace=True)\n",
    "\n",
    "train = train.join(dummies_train_sex)\n",
    "test = test.join(dummies_test_sex)\n",
    "\n",
    "test.drop(['targeted_sex'],axis=1,inplace=True)\n",
    "train.drop(['targeted_sex'],axis=1,inplace=True)"
   ]
  },
  {
   "cell_type": "markdown",
   "metadata": {},
   "source": [
    "###### column name == expensive"
   ]
  },
  {
   "cell_type": "code",
   "execution_count": 391,
   "metadata": {},
   "outputs": [],
   "source": [
    "# creating dummy column for expensive column\n",
    "\n",
    "dummies_train_cost  = pd.get_dummies(train['expensive'])\n",
    "dummies_train_cost.drop(['Medium'],axis=1,inplace=True)\n",
    "\n",
    "dummies_test_cost  = pd.get_dummies(test['expensive'])\n",
    "dummies_test_cost.drop(['Medium'],axis=1,inplace=True)\n",
    "\n",
    "train = train.join(dummies_train_cost)\n",
    "test = test.join(dummies_test_cost)\n",
    "\n",
    "test.drop(['expensive'],axis=1,inplace=True)\n",
    "train.drop(['expensive'],axis=1,inplace=True)\n"
   ]
  },
  {
   "cell_type": "code",
   "execution_count": 392,
   "metadata": {},
   "outputs": [],
   "source": [
    "# creating dummy column for expensive column\n",
    "\n",
    "dummies_train_cost  = pd.get_dummies(train['money_back_guarantee'])\n",
    "dummies_train_cost.drop(['No'],axis=1,inplace=True)\n",
    "\n",
    "dummies_test_cost  = pd.get_dummies(test['money_back_guarantee'])\n",
    "dummies_test_cost.drop(['No'],axis=1,inplace=True)\n",
    "\n",
    "train = train.join(dummies_train_cost)\n",
    "test = test.join(dummies_test_cost)\n",
    "\n",
    "test.drop(['money_back_guarantee'],axis=1,inplace=True)\n",
    "train.drop(['money_back_guarantee'],axis=1,inplace=True)"
   ]
  },
  {
   "cell_type": "code",
   "execution_count": 393,
   "metadata": {},
   "outputs": [],
   "source": [
    "# Target with default parameters\n",
    "ce_target = ce.TargetEncoder(cols = ['relationship_status','industry','genre','airtime','netgain'],return_df=True,smoothing=10)\n",
    "\n",
    "ce_target.fit(train, train['netgain'])\n",
    "# Must pass the series for y in v1.2.8\n",
    "\n",
    "Train=ce_target.transform(train, train['netgain'])"
   ]
  },
  {
   "cell_type": "markdown",
   "metadata": {},
   "source": [
    "###  preprocessing done ....now data ready for training"
   ]
  },
  {
   "cell_type": "code",
   "execution_count": 394,
   "metadata": {},
   "outputs": [
    {
     "name": "stdout",
     "output_type": "stream",
     "text": [
      "<class 'pandas.core.frame.DataFrame'>\n",
      "RangeIndex: 26048 entries, 0 to 26047\n",
      "Data columns (total 10 columns):\n",
      "relationship_status    26048 non-null float64\n",
      "industry               26048 non-null float64\n",
      "genre                  26048 non-null float64\n",
      "average_runtime        26048 non-null float64\n",
      "airtime                26048 non-null float64\n",
      "netgain                26048 non-null float64\n",
      "Male                   26048 non-null uint8\n",
      "High                   26048 non-null uint8\n",
      "Low                    26048 non-null uint8\n",
      "Yes                    26048 non-null uint8\n",
      "dtypes: float64(6), uint8(4)\n",
      "memory usage: 1.3 MB\n"
     ]
    }
   ],
   "source": [
    "Train.info()"
   ]
  },
  {
   "cell_type": "code",
   "execution_count": 395,
   "metadata": {},
   "outputs": [],
   "source": [
    "from sklearn.model_selection import train_test_split\n",
    "\n",
    "X = Train.drop(['netgain'], axis = 1)\n",
    "Y = Train['netgain']\n",
    "\n",
    "X_Train, X_Test, Y_Train, Y_Test = train_test_split(X, Y, test_size = 0.20, random_state = 101)"
   ]
  },
  {
   "cell_type": "code",
   "execution_count": 396,
   "metadata": {},
   "outputs": [
    {
     "name": "stdout",
     "output_type": "stream",
     "text": [
      "<class 'pandas.core.frame.DataFrame'>\n",
      "Int64Index: 20838 entries, 14441 to 13151\n",
      "Data columns (total 9 columns):\n",
      "relationship_status    20838 non-null float64\n",
      "industry               20838 non-null float64\n",
      "genre                  20838 non-null float64\n",
      "average_runtime        20838 non-null float64\n",
      "airtime                20838 non-null float64\n",
      "Male                   20838 non-null uint8\n",
      "High                   20838 non-null uint8\n",
      "Low                    20838 non-null uint8\n",
      "Yes                    20838 non-null uint8\n",
      "dtypes: float64(5), uint8(4)\n",
      "memory usage: 1.0 MB\n"
     ]
    }
   ],
   "source": [
    "X_Train.info()"
   ]
  },
  {
   "cell_type": "code",
   "execution_count": 397,
   "metadata": {},
   "outputs": [],
   "source": [
    "from sklearn.linear_model import LogisticRegression\n",
    "from sklearn.metrics import classification_report,confusion_matrix\n",
    "from sklearn.ensemble import RandomForestClassifier\n",
    "from sklearn import svm\n",
    "from sklearn import tree\n",
    "from sklearn.discriminant_analysis import LinearDiscriminantAnalysis\n",
    "from sklearn.naive_bayes import GaussianNB\n",
    "from sklearn.manifold import TSNE\n",
    "from sklearn.decomposition import PCA"
   ]
  },
  {
   "cell_type": "code",
   "execution_count": 398,
   "metadata": {},
   "outputs": [
    {
     "name": "stdout",
     "output_type": "stream",
     "text": [
      "[[3689  302]\n",
      " [ 831  388]]\n",
      "              precision    recall  f1-score   support\n",
      "\n",
      "         0.0       0.82      0.92      0.87      3991\n",
      "         1.0       0.56      0.32      0.41      1219\n",
      "\n",
      "    accuracy                           0.78      5210\n",
      "   macro avg       0.69      0.62      0.64      5210\n",
      "weighted avg       0.76      0.78      0.76      5210\n",
      "\n"
     ]
    }
   ],
   "source": [
    "trainedmodel = LogisticRegression().fit(X_Train,Y_Train)\n",
    "predictions =trainedmodel.predict(X_Test)\n",
    "print(confusion_matrix(Y_Test,predictions))\n",
    "print(classification_report(Y_Test,predictions))"
   ]
  },
  {
   "cell_type": "code",
   "execution_count": 399,
   "metadata": {},
   "outputs": [
    {
     "name": "stdout",
     "output_type": "stream",
     "text": [
      "[[3572  419]\n",
      " [ 778  441]]\n",
      "              precision    recall  f1-score   support\n",
      "\n",
      "         0.0       0.82      0.90      0.86      3991\n",
      "         1.0       0.51      0.36      0.42      1219\n",
      "\n",
      "    accuracy                           0.77      5210\n",
      "   macro avg       0.67      0.63      0.64      5210\n",
      "weighted avg       0.75      0.77      0.76      5210\n",
      "\n"
     ]
    }
   ],
   "source": [
    "trainedforest = RandomForestClassifier(n_estimators=700).fit(X_Train,Y_Train)\n",
    "predictionforest = trainedforest.predict(X_Test)\n",
    "print(confusion_matrix(Y_Test,predictionforest))\n",
    "print(classification_report(Y_Test,predictionforest))"
   ]
  },
  {
   "cell_type": "code",
   "execution_count": 400,
   "metadata": {},
   "outputs": [
    {
     "name": "stdout",
     "output_type": "stream",
     "text": [
      "[[2527 1464]\n",
      " [ 173 1046]]\n",
      "              precision    recall  f1-score   support\n",
      "\n",
      "         0.0       0.94      0.63      0.76      3991\n",
      "         1.0       0.42      0.86      0.56      1219\n",
      "\n",
      "    accuracy                           0.69      5210\n",
      "   macro avg       0.68      0.75      0.66      5210\n",
      "weighted avg       0.81      0.69      0.71      5210\n",
      "\n"
     ]
    }
   ],
   "source": [
    "trainedsvm = svm.LinearSVC().fit(X_Train, Y_Train)\n",
    "predictionsvm = trainedsvm.predict(X_Test)\n",
    "print(confusion_matrix(Y_Test,predictionsvm))\n",
    "print(classification_report(Y_Test,predictionsvm))"
   ]
  },
  {
   "cell_type": "code",
   "execution_count": 401,
   "metadata": {},
   "outputs": [
    {
     "name": "stdout",
     "output_type": "stream",
     "text": [
      "[[3589  402]\n",
      " [ 717  502]]\n",
      "              precision    recall  f1-score   support\n",
      "\n",
      "         0.0       0.83      0.90      0.87      3991\n",
      "         1.0       0.56      0.41      0.47      1219\n",
      "\n",
      "    accuracy                           0.79      5210\n",
      "   macro avg       0.69      0.66      0.67      5210\n",
      "weighted avg       0.77      0.79      0.77      5210\n",
      "\n"
     ]
    }
   ],
   "source": [
    "trainedlda = LinearDiscriminantAnalysis().fit(X_Train, Y_Train)\n",
    "predictionlda = trainedlda.predict(X_Test)\n",
    "print(confusion_matrix(Y_Test,predictionlda))\n",
    "print(classification_report(Y_Test,predictionlda))"
   ]
  },
  {
   "cell_type": "code",
   "execution_count": 402,
   "metadata": {},
   "outputs": [
    {
     "data": {
      "text/plain": [
       "<Figure size 3600x3960 with 0 Axes>"
      ]
     },
     "metadata": {},
     "output_type": "display_data"
    }
   ],
   "source": [
    "from xgboost import XGBClassifier\n",
    "from xgboost import plot_tree\n",
    "import matplotlib.pyplot as plt\n",
    "model = XGBClassifier()\n",
    "\n",
    "# Train\n",
    "model.fit(X_Train, Y_Train)\n",
    "\n",
    "plt.figure(figsize = (50,55))\n",
    "plt.show()"
   ]
  },
  {
   "cell_type": "code",
   "execution_count": 403,
   "metadata": {},
   "outputs": [],
   "source": [
    "from keras.utils.np_utils import to_categorical\n",
    "Y_Train = to_categorical(Y_Train)"
   ]
  },
  {
   "cell_type": "code",
   "execution_count": 404,
   "metadata": {},
   "outputs": [
    {
     "name": "stdout",
     "output_type": "stream",
     "text": [
      "<class 'pandas.core.frame.DataFrame'>\n",
      "<class 'numpy.ndarray'>\n"
     ]
    }
   ],
   "source": [
    "print(type(X_Train))\n",
    "print(type(Y_Train))"
   ]
  },
  {
   "cell_type": "code",
   "execution_count": 407,
   "metadata": {},
   "outputs": [
    {
     "name": "stdout",
     "output_type": "stream",
     "text": [
      "Training...\n",
      "WARNING:tensorflow:The `nb_epoch` argument in `fit` has been renamed `epochs`.\n",
      "Train on 18754 samples, validate on 2084 samples\n",
      "Epoch 1/50\n",
      "Epoch 2/50\n",
      "Epoch 3/50\n",
      "Epoch 4/50\n",
      "Epoch 5/50\n",
      "Epoch 6/50\n",
      "Epoch 7/50\n",
      "Epoch 8/50\n",
      "Epoch 9/50\n",
      "Epoch 10/50\n",
      "Epoch 11/50\n",
      "Epoch 12/50\n",
      "Epoch 13/50\n",
      "Epoch 14/50\n",
      "Epoch 15/50\n",
      "Epoch 16/50\n",
      "Epoch 17/50\n",
      "Epoch 18/50\n",
      "Epoch 19/50\n",
      "Epoch 20/50\n",
      "Epoch 21/50\n",
      "Epoch 22/50\n",
      "Epoch 23/50\n",
      "Epoch 24/50\n",
      "Epoch 25/50\n",
      "Epoch 26/50\n",
      "Epoch 27/50\n",
      "Epoch 28/50\n",
      "Epoch 29/50\n",
      "Epoch 30/50\n",
      "Epoch 31/50\n",
      "Epoch 32/50\n",
      "Epoch 33/50\n",
      "Epoch 34/50\n",
      "Epoch 35/50\n",
      "Epoch 36/50\n",
      "Epoch 37/50\n",
      "Epoch 38/50\n",
      "Epoch 39/50\n",
      "Epoch 40/50\n",
      "Epoch 41/50\n",
      "Epoch 42/50\n",
      "Epoch 43/50\n",
      "Epoch 44/50\n",
      "Epoch 45/50\n",
      "Epoch 46/50\n",
      "Epoch 47/50\n",
      "Epoch 48/50\n",
      "Epoch 49/50\n",
      "Epoch 50/50\n"
     ]
    }
   ],
   "source": [
    "from tensorflow.keras.models import Sequential\n",
    "from tensorflow.keras.layers import Dense, Activation, Dropout\n",
    "from tensorflow.keras.utils import to_categorical\n",
    "from tensorflow.keras.layers import Dense, Dropout, BatchNormalization, Activation\n",
    "\n",
    "#Y_Test = to_categorical(Y_Test)\n",
    "\n",
    "input_dim = X_Train.shape[1]\n",
    "nb_classes = Y_Train.shape[1]\n",
    "\n",
    "# Here's a Deep Dumb MLP (DDMLP)\n",
    "model = Sequential()\n",
    "model.add(Dense(512, input_dim=input_dim))\n",
    "model.add(BatchNormalization())\n",
    "model.add(Activation('relu'))\n",
    "model.add(Dropout(0.15))\n",
    "model.add(Dense(256))\n",
    "model.add(BatchNormalization())\n",
    "model.add(Activation('relu'))\n",
    "model.add(Dropout(0.15))\n",
    "model.add(Dense(nb_classes))\n",
    "model.add(BatchNormalization())\n",
    "model.add(Activation('sigmoid'))\n",
    "\n",
    "# we'll use categorical xent for the loss, and RMSprop as the optimizer\n",
    "model.compile(loss='categorical_crossentropy', optimizer='rmsprop',metrics=['accuracy'])\n",
    "\n",
    "print(\"Training...\")\n",
    "model.fit(X_Train, Y_Train, nb_epoch=50, batch_size=16, validation_split=0.1, verbose=80)\n",
    "\n",
    "preds = model.predict_classes(X_Test, verbose=0)"
   ]
  },
  {
   "cell_type": "code",
   "execution_count": 408,
   "metadata": {},
   "outputs": [
    {
     "name": "stdout",
     "output_type": "stream",
     "text": [
      "[[3238  753]\n",
      " [ 432  787]]\n",
      "              precision    recall  f1-score   support\n",
      "\n",
      "         0.0       0.88      0.81      0.85      3991\n",
      "         1.0       0.51      0.65      0.57      1219\n",
      "\n",
      "    accuracy                           0.77      5210\n",
      "   macro avg       0.70      0.73      0.71      5210\n",
      "weighted avg       0.80      0.77      0.78      5210\n",
      "\n"
     ]
    }
   ],
   "source": [
    "print(confusion_matrix(Y_Test,preds))\n",
    "print(classification_report(Y_Test,preds))"
   ]
  },
  {
   "cell_type": "code",
   "execution_count": null,
   "metadata": {},
   "outputs": [],
   "source": []
  }
 ],
 "metadata": {
  "kernelspec": {
   "display_name": "Python 3",
   "language": "python",
   "name": "python3"
  },
  "language_info": {
   "codemirror_mode": {
    "name": "ipython",
    "version": 3
   },
   "file_extension": ".py",
   "mimetype": "text/x-python",
   "name": "python",
   "nbconvert_exporter": "python",
   "pygments_lexer": "ipython3",
   "version": "3.7.7"
  }
 },
 "nbformat": 4,
 "nbformat_minor": 2
}
